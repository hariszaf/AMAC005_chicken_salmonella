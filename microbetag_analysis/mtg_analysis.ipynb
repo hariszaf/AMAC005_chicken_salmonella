{
 "cells": [
  {
   "cell_type": "markdown",
   "metadata": {},
   "source": [
    "# Multi Salmo microbetag networks analysis"
   ]
  },
  {
   "cell_type": "markdown",
   "metadata": {},
   "source": [
    "## Building `microbetag`-annotated networks"
   ]
  },
  {
   "cell_type": "markdown",
   "metadata": {},
   "source": [
    "Original files\n",
    "\n",
    "- abundance data file: `salm_multi_filtered_30.tsv` (date: 27/05/2025 - email correspondence)\n",
    "- taxonomy file: `salm_multio_abd_table_gc.tsv` (since the filtered_30 abundance data file has no classification column, we will use a previous version of the file to make sure we map the MAG ID to the correct taxonomy)\n",
    "- metadata file: `sample_metadata_corrected.csv` (date: 20/6/25 - discord message ; yet metabolites not included)\n",
    "- metabolites data: `original_mets_data_20250113.xlsx` (cannot track how I got this)\n",
    "\n",
    "In the following chunk we bring the samples of the two files (columns) in the same order -- necessary for FlashWeave to build networks using metadata. "
   ]
  },
  {
   "cell_type": "code",
   "execution_count": 1,
   "metadata": {},
   "outputs": [],
   "source": [
    "abundance_file   = \"salm_multi_filtered_30.tsv\"\n",
    "taxonomy_file    = \"salm_multio_abd_table_gc.tsv\"\n",
    "metadata_file    = \"sample_metadata_corrected.csv\"\n",
    "metabolites_file = \"original_mets_data_20250113.xlsx\"\n",
    "template_config  = \"config_v104.yml\""
   ]
  },
  {
   "cell_type": "markdown",
   "metadata": {},
   "source": [
    "Load libraries and set root paths."
   ]
  },
  {
   "cell_type": "code",
   "execution_count": 2,
   "metadata": {},
   "outputs": [],
   "source": [
    "import os\n",
    "import sys\n",
    "import pandas as pd \n",
    "from pathlib import Path\n",
    "\n",
    "root            = Path(os.getcwd())\n",
    "input_data      = root / \"data\"\n",
    "microbetag_data = root / \"microbetag_input/\""
   ]
  },
  {
   "cell_type": "markdown",
   "metadata": {},
   "source": [
    "Load abundance data"
   ]
  },
  {
   "cell_type": "code",
   "execution_count": 3,
   "metadata": {},
   "outputs": [
    {
     "data": {
      "text/html": [
       "<div>\n",
       "<style scoped>\n",
       "    .dataframe tbody tr th:only-of-type {\n",
       "        vertical-align: middle;\n",
       "    }\n",
       "\n",
       "    .dataframe tbody tr th {\n",
       "        vertical-align: top;\n",
       "    }\n",
       "\n",
       "    .dataframe thead th {\n",
       "        text-align: right;\n",
       "    }\n",
       "</style>\n",
       "<table border=\"1\" class=\"dataframe\">\n",
       "  <thead>\n",
       "    <tr style=\"text-align: right;\">\n",
       "      <th></th>\n",
       "      <th>D300530</th>\n",
       "      <th>D300531</th>\n",
       "      <th>D300470</th>\n",
       "      <th>D300477</th>\n",
       "      <th>D300433</th>\n",
       "      <th>D300479</th>\n",
       "      <th>D300436</th>\n",
       "      <th>D300445</th>\n",
       "      <th>D300521</th>\n",
       "      <th>D300514</th>\n",
       "      <th>...</th>\n",
       "      <th>D300524</th>\n",
       "      <th>D300469</th>\n",
       "      <th>D300520</th>\n",
       "      <th>D300505</th>\n",
       "      <th>D300493</th>\n",
       "      <th>D300499</th>\n",
       "      <th>D300503</th>\n",
       "      <th>D300464</th>\n",
       "      <th>D300515</th>\n",
       "      <th>D300497</th>\n",
       "    </tr>\n",
       "    <tr>\n",
       "      <th>genome</th>\n",
       "      <th></th>\n",
       "      <th></th>\n",
       "      <th></th>\n",
       "      <th></th>\n",
       "      <th></th>\n",
       "      <th></th>\n",
       "      <th></th>\n",
       "      <th></th>\n",
       "      <th></th>\n",
       "      <th></th>\n",
       "      <th></th>\n",
       "      <th></th>\n",
       "      <th></th>\n",
       "      <th></th>\n",
       "      <th></th>\n",
       "      <th></th>\n",
       "      <th></th>\n",
       "      <th></th>\n",
       "      <th></th>\n",
       "      <th></th>\n",
       "      <th></th>\n",
       "    </tr>\n",
       "  </thead>\n",
       "  <tbody>\n",
       "    <tr>\n",
       "      <th>D300418:bin_000001</th>\n",
       "      <td>0</td>\n",
       "      <td>0</td>\n",
       "      <td>0.0</td>\n",
       "      <td>0.0</td>\n",
       "      <td>0.0</td>\n",
       "      <td>0.0</td>\n",
       "      <td>0.0</td>\n",
       "      <td>0.0</td>\n",
       "      <td>0.0</td>\n",
       "      <td>0.0</td>\n",
       "      <td>...</td>\n",
       "      <td>0.0</td>\n",
       "      <td>0.0</td>\n",
       "      <td>0.0</td>\n",
       "      <td>0.0</td>\n",
       "      <td>0.0</td>\n",
       "      <td>0.0</td>\n",
       "      <td>0.0</td>\n",
       "      <td>0.0</td>\n",
       "      <td>0.0</td>\n",
       "      <td>0.0</td>\n",
       "    </tr>\n",
       "    <tr>\n",
       "      <th>D300418:bin_000013</th>\n",
       "      <td>0</td>\n",
       "      <td>0</td>\n",
       "      <td>0.0</td>\n",
       "      <td>0.0</td>\n",
       "      <td>0.0</td>\n",
       "      <td>0.0</td>\n",
       "      <td>0.0</td>\n",
       "      <td>0.0</td>\n",
       "      <td>0.0</td>\n",
       "      <td>0.0</td>\n",
       "      <td>...</td>\n",
       "      <td>0.0</td>\n",
       "      <td>0.0</td>\n",
       "      <td>0.0</td>\n",
       "      <td>0.0</td>\n",
       "      <td>0.0</td>\n",
       "      <td>0.0</td>\n",
       "      <td>0.0</td>\n",
       "      <td>0.0</td>\n",
       "      <td>0.0</td>\n",
       "      <td>0.0</td>\n",
       "    </tr>\n",
       "  </tbody>\n",
       "</table>\n",
       "<p>2 rows × 114 columns</p>\n",
       "</div>"
      ],
      "text/plain": [
       "                    D300530  D300531  D300470  D300477  D300433  D300479  \\\n",
       "genome                                                                     \n",
       "D300418:bin_000001        0        0      0.0      0.0      0.0      0.0   \n",
       "D300418:bin_000013        0        0      0.0      0.0      0.0      0.0   \n",
       "\n",
       "                    D300436  D300445  D300521  D300514  ...  D300524  D300469  \\\n",
       "genome                                                  ...                     \n",
       "D300418:bin_000001      0.0      0.0      0.0      0.0  ...      0.0      0.0   \n",
       "D300418:bin_000013      0.0      0.0      0.0      0.0  ...      0.0      0.0   \n",
       "\n",
       "                    D300520  D300505  D300493  D300499  D300503  D300464  \\\n",
       "genome                                                                     \n",
       "D300418:bin_000001      0.0      0.0      0.0      0.0      0.0      0.0   \n",
       "D300418:bin_000013      0.0      0.0      0.0      0.0      0.0      0.0   \n",
       "\n",
       "                    D300515  D300497  \n",
       "genome                                \n",
       "D300418:bin_000001      0.0      0.0  \n",
       "D300418:bin_000013      0.0      0.0  \n",
       "\n",
       "[2 rows x 114 columns]"
      ]
     },
     "execution_count": 3,
     "metadata": {},
     "output_type": "execute_result"
    }
   ],
   "source": [
    "abd      = pd.read_csv(input_data / abundance_file, sep=\"\\t\", index_col=0)\n",
    "abd.head(2)"
   ]
  },
  {
   "cell_type": "markdown",
   "metadata": {},
   "source": [
    "Load metadata file, mapping samples to their corresponding treatment and day.\n",
    "In the following table we provide a short description of the treatments. \n",
    "\n",
    "|  Factor        |\tTG1 | TG2 |\tTG3 | TG4 | TG5 |\n",
    "|:--------------:|:----:|:---:|:---:|:---:|:---:|\n",
    "|salmonella\t     | Yes\t| Yes | Yes | Yes | No  |\n",
    "|synbiotic_water | Yes\t| Yes |\tNo  | No  |\tNo  |\n",
    "|synbiotic_feed\t | Yes\t| No  |\tYes | No  | No  |\n",
    "\n"
   ]
  },
  {
   "cell_type": "code",
   "execution_count": 4,
   "metadata": {},
   "outputs": [
    {
     "data": {
      "text/html": [
       "<div>\n",
       "<style scoped>\n",
       "    .dataframe tbody tr th:only-of-type {\n",
       "        vertical-align: middle;\n",
       "    }\n",
       "\n",
       "    .dataframe tbody tr th {\n",
       "        vertical-align: top;\n",
       "    }\n",
       "\n",
       "    .dataframe thead th {\n",
       "        text-align: right;\n",
       "    }\n",
       "</style>\n",
       "<table border=\"1\" class=\"dataframe\">\n",
       "  <thead>\n",
       "    <tr style=\"text-align: right;\">\n",
       "      <th></th>\n",
       "      <th>sample</th>\n",
       "      <th>batch</th>\n",
       "      <th>animal</th>\n",
       "      <th>tissue</th>\n",
       "      <th>treatment</th>\n",
       "      <th>day</th>\n",
       "    </tr>\n",
       "  </thead>\n",
       "  <tbody>\n",
       "    <tr>\n",
       "      <th>0</th>\n",
       "      <td>D300530</td>\n",
       "      <td>S3B009</td>\n",
       "      <td>G000</td>\n",
       "      <td>Digesta</td>\n",
       "      <td>TG0</td>\n",
       "      <td>NaN</td>\n",
       "    </tr>\n",
       "    <tr>\n",
       "      <th>1</th>\n",
       "      <td>D300531</td>\n",
       "      <td>S3B009</td>\n",
       "      <td>G000</td>\n",
       "      <td>Digesta</td>\n",
       "      <td>TG0</td>\n",
       "      <td>NaN</td>\n",
       "    </tr>\n",
       "  </tbody>\n",
       "</table>\n",
       "</div>"
      ],
      "text/plain": [
       "    sample   batch animal   tissue treatment  day\n",
       "0  D300530  S3B009   G000  Digesta       TG0  NaN\n",
       "1  D300531  S3B009   G000  Digesta       TG0  NaN"
      ]
     },
     "execution_count": 4,
     "metadata": {},
     "output_type": "execute_result"
    }
   ],
   "source": [
    "metadata = pd.read_csv(input_data / metadata_file)\n",
    "metadata.head(2)"
   ]
  },
  {
   "cell_type": "markdown",
   "metadata": {},
   "source": [
    "In the metabolites file, you may see that a great number of metabolites were measured in the study, however we selected the most relevant that could affect the samples' communities, and we kept their values in the 'of-interest' sheet."
   ]
  },
  {
   "cell_type": "code",
   "execution_count": 5,
   "metadata": {},
   "outputs": [
    {
     "data": {
      "text/html": [
       "<div>\n",
       "<style scoped>\n",
       "    .dataframe tbody tr th:only-of-type {\n",
       "        vertical-align: middle;\n",
       "    }\n",
       "\n",
       "    .dataframe tbody tr th {\n",
       "        vertical-align: top;\n",
       "    }\n",
       "\n",
       "    .dataframe thead th {\n",
       "        text-align: right;\n",
       "    }\n",
       "</style>\n",
       "<table border=\"1\" class=\"dataframe\">\n",
       "  <thead>\n",
       "    <tr style=\"text-align: right;\">\n",
       "      <th></th>\n",
       "      <th>metabolite</th>\n",
       "      <th>G124</th>\n",
       "      <th>G030</th>\n",
       "      <th>G066</th>\n",
       "      <th>G044</th>\n",
       "      <th>G020</th>\n",
       "      <th>G113</th>\n",
       "      <th>G031</th>\n",
       "      <th>G050</th>\n",
       "      <th>G118</th>\n",
       "      <th>...</th>\n",
       "      <th>G007</th>\n",
       "      <th>G029</th>\n",
       "      <th>G032</th>\n",
       "      <th>G111</th>\n",
       "      <th>G017</th>\n",
       "      <th>G048</th>\n",
       "      <th>G026</th>\n",
       "      <th>G027</th>\n",
       "      <th>G104</th>\n",
       "      <th>G094</th>\n",
       "    </tr>\n",
       "  </thead>\n",
       "  <tbody>\n",
       "    <tr>\n",
       "      <th>0</th>\n",
       "      <td>L-Tyrosine</td>\n",
       "      <td>1.154862e+06</td>\n",
       "      <td>1.070405e+06</td>\n",
       "      <td>7.233821e+05</td>\n",
       "      <td>1.439299e+06</td>\n",
       "      <td>632785.722057</td>\n",
       "      <td>1.157299e+06</td>\n",
       "      <td>6.014387e+05</td>\n",
       "      <td>1.961503e+06</td>\n",
       "      <td>1.125862e+06</td>\n",
       "      <td>...</td>\n",
       "      <td>6.721533e+05</td>\n",
       "      <td>462266.471921</td>\n",
       "      <td>471502.748026</td>\n",
       "      <td>1.546473e+06</td>\n",
       "      <td>328951.773787</td>\n",
       "      <td>656204.241988</td>\n",
       "      <td>2.938963e+06</td>\n",
       "      <td>4.103840e+06</td>\n",
       "      <td>1.906260e+06</td>\n",
       "      <td>1.910604e+06</td>\n",
       "    </tr>\n",
       "    <tr>\n",
       "      <th>1</th>\n",
       "      <td>L-Phenylalanine</td>\n",
       "      <td>1.233174e+06</td>\n",
       "      <td>1.647481e+06</td>\n",
       "      <td>1.049884e+06</td>\n",
       "      <td>2.071581e+06</td>\n",
       "      <td>681458.305129</td>\n",
       "      <td>2.325329e+06</td>\n",
       "      <td>1.862486e+06</td>\n",
       "      <td>2.386789e+06</td>\n",
       "      <td>1.744189e+06</td>\n",
       "      <td>...</td>\n",
       "      <td>2.686876e+06</td>\n",
       "      <td>727284.939809</td>\n",
       "      <td>955339.135261</td>\n",
       "      <td>2.574471e+06</td>\n",
       "      <td>525748.264667</td>\n",
       "      <td>753097.476399</td>\n",
       "      <td>2.199197e+07</td>\n",
       "      <td>2.619296e+07</td>\n",
       "      <td>1.816819e+06</td>\n",
       "      <td>2.377164e+06</td>\n",
       "    </tr>\n",
       "  </tbody>\n",
       "</table>\n",
       "<p>2 rows × 112 columns</p>\n",
       "</div>"
      ],
      "text/plain": [
       "        metabolite          G124          G030          G066          G044  \\\n",
       "0       L-Tyrosine  1.154862e+06  1.070405e+06  7.233821e+05  1.439299e+06   \n",
       "1  L-Phenylalanine  1.233174e+06  1.647481e+06  1.049884e+06  2.071581e+06   \n",
       "\n",
       "            G020          G113          G031          G050          G118  ...  \\\n",
       "0  632785.722057  1.157299e+06  6.014387e+05  1.961503e+06  1.125862e+06  ...   \n",
       "1  681458.305129  2.325329e+06  1.862486e+06  2.386789e+06  1.744189e+06  ...   \n",
       "\n",
       "           G007           G029           G032          G111           G017  \\\n",
       "0  6.721533e+05  462266.471921  471502.748026  1.546473e+06  328951.773787   \n",
       "1  2.686876e+06  727284.939809  955339.135261  2.574471e+06  525748.264667   \n",
       "\n",
       "            G048          G026          G027          G104          G094  \n",
       "0  656204.241988  2.938963e+06  4.103840e+06  1.906260e+06  1.910604e+06  \n",
       "1  753097.476399  2.199197e+07  2.619296e+07  1.816819e+06  2.377164e+06  \n",
       "\n",
       "[2 rows x 112 columns]"
      ]
     },
     "execution_count": 5,
     "metadata": {},
     "output_type": "execute_result"
    }
   ],
   "source": [
    "mets = pd.read_excel(input_data / metabolites_file, sheet_name=\"of-interest\")\n",
    "\n",
    "# For some reason there is an extra \"M\" in the end of the sample name \n",
    "mets.columns = [mets.columns[0]] + [col[:-1] for col in mets.columns[1:]]\n",
    "mets.head(2)"
   ]
  },
  {
   "cell_type": "markdown",
   "metadata": {},
   "source": [
    "We will now merge the metabolites' data with the rest of the metadata of each sample, so we use their combination to infer microbial co-occurrence networks with FlashWeave. \n",
    "To this end, we will use the `animal` column of the metadata, that has been used as the sample name for the metabolites' measurements. "
   ]
  },
  {
   "cell_type": "code",
   "execution_count": 6,
   "metadata": {},
   "outputs": [
    {
     "name": "stdout",
     "output_type": "stream",
     "text": [
      "(114, 29)\n"
     ]
    },
    {
     "data": {
      "text/html": [
       "<div>\n",
       "<style scoped>\n",
       "    .dataframe tbody tr th:only-of-type {\n",
       "        vertical-align: middle;\n",
       "    }\n",
       "\n",
       "    .dataframe tbody tr th {\n",
       "        vertical-align: top;\n",
       "    }\n",
       "\n",
       "    .dataframe thead th {\n",
       "        text-align: right;\n",
       "    }\n",
       "</style>\n",
       "<table border=\"1\" class=\"dataframe\">\n",
       "  <thead>\n",
       "    <tr style=\"text-align: right;\">\n",
       "      <th></th>\n",
       "      <th>sample</th>\n",
       "      <th>batch</th>\n",
       "      <th>animal</th>\n",
       "      <th>tissue</th>\n",
       "      <th>treatment</th>\n",
       "      <th>day</th>\n",
       "      <th>L-Tyrosine</th>\n",
       "      <th>L-Phenylalanine</th>\n",
       "      <th>L-Tryptophan</th>\n",
       "      <th>L-Aspartic Acid</th>\n",
       "      <th>...</th>\n",
       "      <th>Thiamine</th>\n",
       "      <th>Adenine</th>\n",
       "      <th>Guanosine</th>\n",
       "      <th>L-Valine</th>\n",
       "      <th>L-Alanine</th>\n",
       "      <th>L-Asparagine</th>\n",
       "      <th>L-Isoleucine</th>\n",
       "      <th>L-Serine</th>\n",
       "      <th>Lactic acid</th>\n",
       "      <th>Sulfoacetic acid</th>\n",
       "    </tr>\n",
       "  </thead>\n",
       "  <tbody>\n",
       "    <tr>\n",
       "      <th>0</th>\n",
       "      <td>D300530</td>\n",
       "      <td>S3B009</td>\n",
       "      <td>G000</td>\n",
       "      <td>Digesta</td>\n",
       "      <td>TG0</td>\n",
       "      <td>NaN</td>\n",
       "      <td>NaN</td>\n",
       "      <td>NaN</td>\n",
       "      <td>NaN</td>\n",
       "      <td>NaN</td>\n",
       "      <td>...</td>\n",
       "      <td>NaN</td>\n",
       "      <td>NaN</td>\n",
       "      <td>NaN</td>\n",
       "      <td>NaN</td>\n",
       "      <td>NaN</td>\n",
       "      <td>NaN</td>\n",
       "      <td>NaN</td>\n",
       "      <td>NaN</td>\n",
       "      <td>NaN</td>\n",
       "      <td>NaN</td>\n",
       "    </tr>\n",
       "    <tr>\n",
       "      <th>1</th>\n",
       "      <td>D300531</td>\n",
       "      <td>S3B009</td>\n",
       "      <td>G000</td>\n",
       "      <td>Digesta</td>\n",
       "      <td>TG0</td>\n",
       "      <td>NaN</td>\n",
       "      <td>NaN</td>\n",
       "      <td>NaN</td>\n",
       "      <td>NaN</td>\n",
       "      <td>NaN</td>\n",
       "      <td>...</td>\n",
       "      <td>NaN</td>\n",
       "      <td>NaN</td>\n",
       "      <td>NaN</td>\n",
       "      <td>NaN</td>\n",
       "      <td>NaN</td>\n",
       "      <td>NaN</td>\n",
       "      <td>NaN</td>\n",
       "      <td>NaN</td>\n",
       "      <td>NaN</td>\n",
       "      <td>NaN</td>\n",
       "    </tr>\n",
       "  </tbody>\n",
       "</table>\n",
       "<p>2 rows × 29 columns</p>\n",
       "</div>"
      ],
      "text/plain": [
       "    sample   batch animal   tissue treatment  day  L-Tyrosine  \\\n",
       "0  D300530  S3B009   G000  Digesta       TG0  NaN         NaN   \n",
       "1  D300531  S3B009   G000  Digesta       TG0  NaN         NaN   \n",
       "\n",
       "   L-Phenylalanine  L-Tryptophan  L-Aspartic Acid  ...  Thiamine  Adenine  \\\n",
       "0              NaN           NaN              NaN  ...       NaN      NaN   \n",
       "1              NaN           NaN              NaN  ...       NaN      NaN   \n",
       "\n",
       "   Guanosine  L-Valine  L-Alanine  L-Asparagine  L-Isoleucine  L-Serine  \\\n",
       "0        NaN       NaN        NaN           NaN           NaN       NaN   \n",
       "1        NaN       NaN        NaN           NaN           NaN       NaN   \n",
       "\n",
       "   Lactic acid  Sulfoacetic acid  \n",
       "0          NaN               NaN  \n",
       "1          NaN               NaN  \n",
       "\n",
       "[2 rows x 29 columns]"
      ]
     },
     "execution_count": 6,
     "metadata": {},
     "output_type": "execute_result"
    }
   ],
   "source": [
    "# Ensure 'metabolite' is set as index so rows are labeled by metabolite name\n",
    "mets_indexed = mets.set_index('metabolite')\n",
    "\n",
    "# Loop over each metabolite (each row in mets) and map values to metadata\n",
    "for metabolite in mets_indexed.index:\n",
    "    metadata[metabolite] = metadata['animal'].map(mets_indexed.loc[metabolite].to_dict())\n",
    "\n",
    "print(metadata.shape)\n",
    "metadata.head(2)\n"
   ]
  },
  {
   "cell_type": "code",
   "execution_count": 7,
   "metadata": {},
   "outputs": [
    {
     "data": {
      "text/html": [
       "<div>\n",
       "<style scoped>\n",
       "    .dataframe tbody tr th:only-of-type {\n",
       "        vertical-align: middle;\n",
       "    }\n",
       "\n",
       "    .dataframe tbody tr th {\n",
       "        vertical-align: top;\n",
       "    }\n",
       "\n",
       "    .dataframe thead th {\n",
       "        text-align: right;\n",
       "    }\n",
       "</style>\n",
       "<table border=\"1\" class=\"dataframe\">\n",
       "  <thead>\n",
       "    <tr style=\"text-align: right;\">\n",
       "      <th></th>\n",
       "      <th>sample</th>\n",
       "      <th>batch</th>\n",
       "      <th>animal</th>\n",
       "      <th>tissue</th>\n",
       "      <th>treatment</th>\n",
       "      <th>day</th>\n",
       "      <th>L-Tyrosine</th>\n",
       "      <th>L-Phenylalanine</th>\n",
       "      <th>L-Tryptophan</th>\n",
       "      <th>L-Aspartic Acid</th>\n",
       "      <th>...</th>\n",
       "      <th>Thiamine</th>\n",
       "      <th>Adenine</th>\n",
       "      <th>Guanosine</th>\n",
       "      <th>L-Valine</th>\n",
       "      <th>L-Alanine</th>\n",
       "      <th>L-Asparagine</th>\n",
       "      <th>L-Isoleucine</th>\n",
       "      <th>L-Serine</th>\n",
       "      <th>Lactic acid</th>\n",
       "      <th>Sulfoacetic acid</th>\n",
       "    </tr>\n",
       "  </thead>\n",
       "  <tbody>\n",
       "    <tr>\n",
       "      <th>93</th>\n",
       "      <td>D300477</td>\n",
       "      <td>S3B009</td>\n",
       "      <td>G003</td>\n",
       "      <td>Digesta</td>\n",
       "      <td>TG5</td>\n",
       "      <td>14.0</td>\n",
       "      <td>NaN</td>\n",
       "      <td>NaN</td>\n",
       "      <td>NaN</td>\n",
       "      <td>NaN</td>\n",
       "      <td>...</td>\n",
       "      <td>NaN</td>\n",
       "      <td>NaN</td>\n",
       "      <td>NaN</td>\n",
       "      <td>NaN</td>\n",
       "      <td>NaN</td>\n",
       "      <td>NaN</td>\n",
       "      <td>NaN</td>\n",
       "      <td>NaN</td>\n",
       "      <td>NaN</td>\n",
       "      <td>NaN</td>\n",
       "    </tr>\n",
       "  </tbody>\n",
       "</table>\n",
       "<p>1 rows × 29 columns</p>\n",
       "</div>"
      ],
      "text/plain": [
       "     sample   batch animal   tissue treatment   day  L-Tyrosine  \\\n",
       "93  D300477  S3B009   G003  Digesta       TG5  14.0         NaN   \n",
       "\n",
       "    L-Phenylalanine  L-Tryptophan  L-Aspartic Acid  ...  Thiamine  Adenine  \\\n",
       "93              NaN           NaN              NaN  ...       NaN      NaN   \n",
       "\n",
       "    Guanosine  L-Valine  L-Alanine  L-Asparagine  L-Isoleucine  L-Serine  \\\n",
       "93        NaN       NaN        NaN           NaN           NaN       NaN   \n",
       "\n",
       "    Lactic acid  Sulfoacetic acid  \n",
       "93          NaN               NaN  \n",
       "\n",
       "[1 rows x 29 columns]"
      ]
     },
     "execution_count": 7,
     "metadata": {},
     "output_type": "execute_result"
    }
   ],
   "source": [
    "metadata[metadata[\"animal\"] == \"G003\"]"
   ]
  },
  {
   "cell_type": "markdown",
   "metadata": {},
   "source": [
    "And to bring it a `microbetag`-friendly format, we will transpose the table."
   ]
  },
  {
   "cell_type": "code",
   "execution_count": 8,
   "metadata": {},
   "outputs": [
    {
     "data": {
      "text/html": [
       "<div>\n",
       "<style scoped>\n",
       "    .dataframe tbody tr th:only-of-type {\n",
       "        vertical-align: middle;\n",
       "    }\n",
       "\n",
       "    .dataframe tbody tr th {\n",
       "        vertical-align: top;\n",
       "    }\n",
       "\n",
       "    .dataframe thead th {\n",
       "        text-align: right;\n",
       "    }\n",
       "</style>\n",
       "<table border=\"1\" class=\"dataframe\">\n",
       "  <thead>\n",
       "    <tr style=\"text-align: right;\">\n",
       "      <th>sample</th>\n",
       "      <th>D300530</th>\n",
       "      <th>D300531</th>\n",
       "      <th>D300529</th>\n",
       "      <th>D300480</th>\n",
       "      <th>D300517</th>\n",
       "      <th>D300428</th>\n",
       "      <th>D300509</th>\n",
       "      <th>D300516</th>\n",
       "      <th>D300510</th>\n",
       "      <th>D300483</th>\n",
       "      <th>...</th>\n",
       "      <th>D300524</th>\n",
       "      <th>D300469</th>\n",
       "      <th>D300520</th>\n",
       "      <th>D300505</th>\n",
       "      <th>D300493</th>\n",
       "      <th>D300499</th>\n",
       "      <th>D300503</th>\n",
       "      <th>D300464</th>\n",
       "      <th>D300515</th>\n",
       "      <th>D300497</th>\n",
       "    </tr>\n",
       "  </thead>\n",
       "  <tbody>\n",
       "    <tr>\n",
       "      <th>batch</th>\n",
       "      <td>S3B009</td>\n",
       "      <td>S3B009</td>\n",
       "      <td>S3B009</td>\n",
       "      <td>S3B009</td>\n",
       "      <td>S3B009</td>\n",
       "      <td>S3B009</td>\n",
       "      <td>S3B009</td>\n",
       "      <td>S3B009</td>\n",
       "      <td>S3B009</td>\n",
       "      <td>S3B009</td>\n",
       "      <td>...</td>\n",
       "      <td>S3B009</td>\n",
       "      <td>S3B009</td>\n",
       "      <td>S3B009</td>\n",
       "      <td>S3B009</td>\n",
       "      <td>S3B009</td>\n",
       "      <td>S3B009</td>\n",
       "      <td>S3B009</td>\n",
       "      <td>S3B009</td>\n",
       "      <td>S3B009</td>\n",
       "      <td>S3B009</td>\n",
       "    </tr>\n",
       "    <tr>\n",
       "      <th>animal</th>\n",
       "      <td>G000</td>\n",
       "      <td>G000</td>\n",
       "      <td>G085</td>\n",
       "      <td>G086</td>\n",
       "      <td>G087</td>\n",
       "      <td>G088</td>\n",
       "      <td>G089</td>\n",
       "      <td>G090</td>\n",
       "      <td>G091</td>\n",
       "      <td>G092</td>\n",
       "      <td>...</td>\n",
       "      <td>G115</td>\n",
       "      <td>G116</td>\n",
       "      <td>G118</td>\n",
       "      <td>G119</td>\n",
       "      <td>G120</td>\n",
       "      <td>G121</td>\n",
       "      <td>G122</td>\n",
       "      <td>G123</td>\n",
       "      <td>G124</td>\n",
       "      <td>G125</td>\n",
       "    </tr>\n",
       "  </tbody>\n",
       "</table>\n",
       "<p>2 rows × 114 columns</p>\n",
       "</div>"
      ],
      "text/plain": [
       "sample D300530 D300531 D300529 D300480 D300517 D300428 D300509 D300516  \\\n",
       "batch   S3B009  S3B009  S3B009  S3B009  S3B009  S3B009  S3B009  S3B009   \n",
       "animal    G000    G000    G085    G086    G087    G088    G089    G090   \n",
       "\n",
       "sample D300510 D300483  ... D300524 D300469 D300520 D300505 D300493 D300499  \\\n",
       "batch   S3B009  S3B009  ...  S3B009  S3B009  S3B009  S3B009  S3B009  S3B009   \n",
       "animal    G091    G092  ...    G115    G116    G118    G119    G120    G121   \n",
       "\n",
       "sample D300503 D300464 D300515 D300497  \n",
       "batch   S3B009  S3B009  S3B009  S3B009  \n",
       "animal    G122    G123    G124    G125  \n",
       "\n",
       "[2 rows x 114 columns]"
      ]
     },
     "execution_count": 8,
     "metadata": {},
     "output_type": "execute_result"
    }
   ],
   "source": [
    "metadata = metadata.T\n",
    "metadata.columns = metadata.iloc[0]\n",
    "metadata = metadata.drop(metadata.index[0])\n",
    "\n",
    "# Make day an integer -- not a float\n",
    "metadata.loc[\"day\"] = metadata.loc[\"day\"].astype('Int64')\n",
    "\n",
    "metadata.head(2)"
   ]
  },
  {
   "cell_type": "markdown",
   "metadata": {},
   "source": [
    "You may notice that `metadata` now, have 114 columns, thus 114 samples, as many as the abundance table, but the original `metabolites` dataframe had only 112; this is because no measurements were taken for the two blank samples.\n",
    "Those two samples (`D300530` and `D300531`) have `NaN` values across all their metabolites. \n",
    "\n",
    "We can now check that our abundance and metadata dataframes have the same elements across their columns."
   ]
  },
  {
   "cell_type": "code",
   "execution_count": 9,
   "metadata": {},
   "outputs": [
    {
     "data": {
      "text/plain": [
       "True"
      ]
     },
     "execution_count": 9,
     "metadata": {},
     "output_type": "execute_result"
    }
   ],
   "source": [
    "set(abd.columns) == set(metadata.columns)"
   ]
  },
  {
   "cell_type": "markdown",
   "metadata": {},
   "source": [
    "However, even if the columns are the same, their order is **different**! "
   ]
  },
  {
   "cell_type": "code",
   "execution_count": 10,
   "metadata": {},
   "outputs": [
    {
     "data": {
      "text/plain": [
       "True"
      ]
     },
     "execution_count": 10,
     "metadata": {},
     "output_type": "execute_result"
    }
   ],
   "source": [
    "set(abd.columns) == set(metadata.columns) and list(abd.columns) != list(metadata.columns)"
   ]
  },
  {
   "cell_type": "markdown",
   "metadata": {},
   "source": [
    ">  ⚠️ **ATTENTION!**\n",
    "> \n",
    "> It is essential we have the same order on the two dataframes for FlashWeave. "
   ]
  },
  {
   "cell_type": "code",
   "execution_count": 11,
   "metadata": {},
   "outputs": [
    {
     "data": {
      "text/html": [
       "<div>\n",
       "<style scoped>\n",
       "    .dataframe tbody tr th:only-of-type {\n",
       "        vertical-align: middle;\n",
       "    }\n",
       "\n",
       "    .dataframe tbody tr th {\n",
       "        vertical-align: top;\n",
       "    }\n",
       "\n",
       "    .dataframe thead th {\n",
       "        text-align: right;\n",
       "    }\n",
       "</style>\n",
       "<table border=\"1\" class=\"dataframe\">\n",
       "  <thead>\n",
       "    <tr style=\"text-align: right;\">\n",
       "      <th></th>\n",
       "      <th>D300530</th>\n",
       "      <th>D300531</th>\n",
       "      <th>D300529</th>\n",
       "      <th>D300480</th>\n",
       "      <th>D300517</th>\n",
       "      <th>D300428</th>\n",
       "      <th>D300509</th>\n",
       "      <th>D300516</th>\n",
       "      <th>D300510</th>\n",
       "      <th>D300483</th>\n",
       "      <th>...</th>\n",
       "      <th>D300524</th>\n",
       "      <th>D300469</th>\n",
       "      <th>D300520</th>\n",
       "      <th>D300505</th>\n",
       "      <th>D300493</th>\n",
       "      <th>D300499</th>\n",
       "      <th>D300503</th>\n",
       "      <th>D300464</th>\n",
       "      <th>D300515</th>\n",
       "      <th>D300497</th>\n",
       "    </tr>\n",
       "    <tr>\n",
       "      <th>genome</th>\n",
       "      <th></th>\n",
       "      <th></th>\n",
       "      <th></th>\n",
       "      <th></th>\n",
       "      <th></th>\n",
       "      <th></th>\n",
       "      <th></th>\n",
       "      <th></th>\n",
       "      <th></th>\n",
       "      <th></th>\n",
       "      <th></th>\n",
       "      <th></th>\n",
       "      <th></th>\n",
       "      <th></th>\n",
       "      <th></th>\n",
       "      <th></th>\n",
       "      <th></th>\n",
       "      <th></th>\n",
       "      <th></th>\n",
       "      <th></th>\n",
       "      <th></th>\n",
       "    </tr>\n",
       "  </thead>\n",
       "  <tbody>\n",
       "    <tr>\n",
       "      <th>D300418:bin_000001</th>\n",
       "      <td>0</td>\n",
       "      <td>0</td>\n",
       "      <td>0.0</td>\n",
       "      <td>0.0</td>\n",
       "      <td>0.0</td>\n",
       "      <td>0.0</td>\n",
       "      <td>0.0</td>\n",
       "      <td>0.0</td>\n",
       "      <td>0.0</td>\n",
       "      <td>0.0</td>\n",
       "      <td>...</td>\n",
       "      <td>0.0</td>\n",
       "      <td>0.0</td>\n",
       "      <td>0.0</td>\n",
       "      <td>0.0</td>\n",
       "      <td>0.0</td>\n",
       "      <td>0.0</td>\n",
       "      <td>0.0</td>\n",
       "      <td>0.0</td>\n",
       "      <td>0.0</td>\n",
       "      <td>0.0</td>\n",
       "    </tr>\n",
       "  </tbody>\n",
       "</table>\n",
       "<p>1 rows × 114 columns</p>\n",
       "</div>"
      ],
      "text/plain": [
       "                    D300530  D300531  D300529  D300480  D300517  D300428  \\\n",
       "genome                                                                     \n",
       "D300418:bin_000001        0        0      0.0      0.0      0.0      0.0   \n",
       "\n",
       "                    D300509  D300516  D300510  D300483  ...  D300524  D300469  \\\n",
       "genome                                                  ...                     \n",
       "D300418:bin_000001      0.0      0.0      0.0      0.0  ...      0.0      0.0   \n",
       "\n",
       "                    D300520  D300505  D300493  D300499  D300503  D300464  \\\n",
       "genome                                                                     \n",
       "D300418:bin_000001      0.0      0.0      0.0      0.0      0.0      0.0   \n",
       "\n",
       "                    D300515  D300497  \n",
       "genome                                \n",
       "D300418:bin_000001      0.0      0.0  \n",
       "\n",
       "[1 rows x 114 columns]"
      ]
     },
     "execution_count": 11,
     "metadata": {},
     "output_type": "execute_result"
    }
   ],
   "source": [
    "abd_reordered = abd[metadata.columns]"
   ]
  },
  {
   "cell_type": "markdown",
   "metadata": {},
   "source": [
    "Yet, FlashWeave cannot handle with null values, meaning we need to remove such cases from both abundance and metadata dataframes. "
   ]
  },
  {
   "cell_type": "code",
   "execution_count": 13,
   "metadata": {},
   "outputs": [],
   "source": [
    "def remove_cols_with_null(df):\n",
    "\n",
    "    # Store original columns\n",
    "    original_columns = df.columns\n",
    "\n",
    "    # Drop columns with all NaNs\n",
    "    df_clean = df.dropna(axis=1, how='any')\n",
    "\n",
    "    # Find which columns were dropped\n",
    "    dropped_columns = original_columns.difference(df_clean.columns)\n",
    "    \n",
    "    return df_clean, dropped_columns"
   ]
  },
  {
   "cell_type": "code",
   "execution_count": 14,
   "metadata": {},
   "outputs": [
    {
     "data": {
      "text/plain": [
       "Index(['D300477', 'D300530', 'D300531'], dtype='object', name='sample')"
      ]
     },
     "execution_count": 14,
     "metadata": {},
     "output_type": "execute_result"
    }
   ],
   "source": [
    "metadata_cl, dropped_samples = remove_cols_with_null(metadata)\n",
    "dropped_samples"
   ]
  },
  {
   "cell_type": "code",
   "execution_count": 15,
   "metadata": {},
   "outputs": [
    {
     "data": {
      "text/plain": [
       "Index([], dtype='object')"
      ]
     },
     "execution_count": 15,
     "metadata": {},
     "output_type": "execute_result"
    }
   ],
   "source": [
    "abd_cl, dropped_samples_abd = remove_cols_with_null(abd_reordered)\n",
    "dropped_samples_abd"
   ]
  },
  {
   "cell_type": "markdown",
   "metadata": {},
   "source": [
    "We observe that only in the case of the metadata dataframe we had some null values, in three samples that correspond to the two blank ones ('D300530', 'D300531') and a TG5/day14 one (animal G003).\n",
    "\n",
    "Yet, we need to remove those three samples from the `abd` dataframe too. "
   ]
  },
  {
   "cell_type": "code",
   "execution_count": 16,
   "metadata": {},
   "outputs": [],
   "source": [
    "abd_reordered = abd_reordered.drop(columns=dropped_samples)"
   ]
  },
  {
   "cell_type": "markdown",
   "metadata": {},
   "source": [
    "From the original abundance file we have been using, we miss the **taxonomic assignment** of the genomes."
   ]
  },
  {
   "cell_type": "code",
   "execution_count": 17,
   "metadata": {},
   "outputs": [
    {
     "data": {
      "text/html": [
       "<div>\n",
       "<style scoped>\n",
       "    .dataframe tbody tr th:only-of-type {\n",
       "        vertical-align: middle;\n",
       "    }\n",
       "\n",
       "    .dataframe tbody tr th {\n",
       "        vertical-align: top;\n",
       "    }\n",
       "\n",
       "    .dataframe thead th {\n",
       "        text-align: right;\n",
       "    }\n",
       "</style>\n",
       "<table border=\"1\" class=\"dataframe\">\n",
       "  <thead>\n",
       "    <tr style=\"text-align: right;\">\n",
       "      <th></th>\n",
       "      <th>genome</th>\n",
       "      <th>classification</th>\n",
       "    </tr>\n",
       "  </thead>\n",
       "  <tbody>\n",
       "    <tr>\n",
       "      <th>0</th>\n",
       "      <td>D300418:bin_000001</td>\n",
       "      <td>d__Bacteria;p__Bacillota_A;c__Clostridia;o__Os...</td>\n",
       "    </tr>\n",
       "    <tr>\n",
       "      <th>1</th>\n",
       "      <td>D300418:bin_000013</td>\n",
       "      <td>d__Bacteria;p__Bacillota_A;c__Clostridia;o__Os...</td>\n",
       "    </tr>\n",
       "    <tr>\n",
       "      <th>2</th>\n",
       "      <td>D300428:bin_000008</td>\n",
       "      <td>d__Bacteria;p__Bacillota_A;c__Clostridia;o__Ch...</td>\n",
       "    </tr>\n",
       "    <tr>\n",
       "      <th>3</th>\n",
       "      <td>D300430:bin_000010</td>\n",
       "      <td>d__Bacteria;p__Bacillota_A;c__Clostridia;o__Os...</td>\n",
       "    </tr>\n",
       "    <tr>\n",
       "      <th>4</th>\n",
       "      <td>D300432:bin_000001</td>\n",
       "      <td>d__Bacteria;p__Bacillota_A;c__Clostridia;o__La...</td>\n",
       "    </tr>\n",
       "  </tbody>\n",
       "</table>\n",
       "</div>"
      ],
      "text/plain": [
       "               genome                                     classification\n",
       "0  D300418:bin_000001  d__Bacteria;p__Bacillota_A;c__Clostridia;o__Os...\n",
       "1  D300418:bin_000013  d__Bacteria;p__Bacillota_A;c__Clostridia;o__Os...\n",
       "2  D300428:bin_000008  d__Bacteria;p__Bacillota_A;c__Clostridia;o__Ch...\n",
       "3  D300430:bin_000010  d__Bacteria;p__Bacillota_A;c__Clostridia;o__Os...\n",
       "4  D300432:bin_000001  d__Bacteria;p__Bacillota_A;c__Clostridia;o__La..."
      ]
     },
     "execution_count": 17,
     "metadata": {},
     "output_type": "execute_result"
    }
   ],
   "source": [
    "tax = pd.read_csv(input_data / taxonomy_file, sep = \"\\t\")\n",
    "tax = tax[[\"genome\", \"classification\"]]\n",
    "tax.head()"
   ]
  },
  {
   "cell_type": "markdown",
   "metadata": {},
   "source": [
    ">  ⚠️ **ATTENTION!**\n",
    ">\n",
    "> To make our lives easier we will rename our basic dataframes to `abd` and `metadata`, but **remember** that they are not the original ones, but the ones after all the pre-processing steps."
   ]
  },
  {
   "cell_type": "code",
   "execution_count": 21,
   "metadata": {},
   "outputs": [],
   "source": [
    "abd = abd_reordered.merge(tax, on='genome', how='left')\n",
    "metadata = metadata_cl"
   ]
  },
  {
   "cell_type": "markdown",
   "metadata": {},
   "source": [
    "🔔 We can now run a second test to check whether the order of the column names is the same in the two dataframes, excluding the non-numeric columns of the `abd` (`genome` and `classification`). "
   ]
  },
  {
   "cell_type": "code",
   "execution_count": 27,
   "metadata": {},
   "outputs": [
    {
     "data": {
      "text/plain": [
       "True"
      ]
     },
     "execution_count": 27,
     "metadata": {},
     "output_type": "execute_result"
    }
   ],
   "source": [
    "abd.select_dtypes(include=['number']).columns.to_list() == metadata.columns.to_list()"
   ]
  },
  {
   "cell_type": "markdown",
   "metadata": {},
   "source": [
    "So, we can now export the two basic files to be used for the `microbetag` analysis in its required format."
   ]
  },
  {
   "cell_type": "code",
   "execution_count": 28,
   "metadata": {},
   "outputs": [],
   "source": [
    "abd.to_csv(microbetag_data / \"abundance.tsv\", sep=\"\\t\")\n",
    "metadata.to_csv(microbetag_data / \"metadata.tsv\", sep=\"\\t\")  # header=False"
   ]
  },
  {
   "cell_type": "markdown",
   "metadata": {},
   "source": [
    "⚪ We can now check a couple of things on our data to check whether they agree with what's expected. "
   ]
  },
  {
   "cell_type": "code",
   "execution_count": 61,
   "metadata": {},
   "outputs": [],
   "source": [
    "probiotics = {\n",
    "    \"Bifidobacterium animalis\": \"GEXTRA:bin_000001\",\n",
    "    \"Enterococcus faecium\"    : \"GEXTRA:bin_000002\",\n",
    "    \"Lactobacillus salivarius\": \"GPB:bin_000025\",\n",
    "    \"Lactobacillus reuteri\"   : \"GEXTRA:bin_000004\",  # TG2:bin_000003\n",
    "    \"Pediococcus acidilactici\": \"GEXTRA:bin_000006\"\n",
    "}\n",
    "salmonella = {\"Salmonella enterica\": \"GPB:bin_000051\"}"
   ]
  },
  {
   "cell_type": "code",
   "execution_count": 63,
   "metadata": {},
   "outputs": [],
   "source": [
    "types = [\"day\", \"treatment\"]"
   ]
  },
  {
   "cell_type": "code",
   "execution_count": 75,
   "metadata": {},
   "outputs": [],
   "source": [
    "def mean_genome_abd(abd_df, meta_df, bin_id, type, case):\n",
    "\n",
    "    samples = meta_df.columns[meta_df.loc[type] == case]\n",
    "    sub_df = abd_df[[\"genome\"] + samples.tolist() + [\"classification\"]]\n",
    "\n",
    "    findings  = sub_df[sub_df[\"genome\"] == bin_id].select_dtypes(include=['number'])\n",
    "    mean      = findings.mean(axis=1)\n",
    "    std       = findings.std(axis=1)\n",
    "    formatted = mean.round(4).astype(str) + \" ± \" + std.round(4).astype(str)\n",
    "    \n",
    "    return formatted"
   ]
  },
  {
   "cell_type": "code",
   "execution_count": 79,
   "metadata": {},
   "outputs": [],
   "source": [
    "species_case_avg = {}\n",
    "\n",
    "for type in types:\n",
    "    species_case_avg[type] = {}\n",
    "    for case in metadata.loc[type, :].unique():\n",
    "        species_case_avg[type][case] = {}\n",
    "        for probiotic, genome in probiotics.items():\n",
    "            av_std = mean_genome_abd(abd, metadata, genome, type, case)\n",
    "            species_case_avg[type][case][probiotic] = av_std.item()"
   ]
  },
  {
   "cell_type": "code",
   "execution_count": 80,
   "metadata": {},
   "outputs": [
    {
     "data": {
      "text/html": [
       "<div>\n",
       "<style scoped>\n",
       "    .dataframe tbody tr th:only-of-type {\n",
       "        vertical-align: middle;\n",
       "    }\n",
       "\n",
       "    .dataframe tbody tr th {\n",
       "        vertical-align: top;\n",
       "    }\n",
       "\n",
       "    .dataframe thead th {\n",
       "        text-align: right;\n",
       "    }\n",
       "</style>\n",
       "<table border=\"1\" class=\"dataframe\">\n",
       "  <thead>\n",
       "    <tr style=\"text-align: right;\">\n",
       "      <th></th>\n",
       "      <th>35</th>\n",
       "      <th>28</th>\n",
       "      <th>21</th>\n",
       "      <th>14</th>\n",
       "      <th>7</th>\n",
       "    </tr>\n",
       "  </thead>\n",
       "  <tbody>\n",
       "    <tr>\n",
       "      <th>Bifidobacterium animalis</th>\n",
       "      <td>0.0 ± 0.0</td>\n",
       "      <td>0.0 ± 0.0</td>\n",
       "      <td>0.0 ± 0.0</td>\n",
       "      <td>0.0 ± 0.0</td>\n",
       "      <td>0.5108 ± 1.6582</td>\n",
       "    </tr>\n",
       "    <tr>\n",
       "      <th>Enterococcus faecium</th>\n",
       "      <td>0.0 ± 0.0</td>\n",
       "      <td>0.0 ± 0.0</td>\n",
       "      <td>0.0 ± 0.0</td>\n",
       "      <td>0.0 ± 0.0</td>\n",
       "      <td>0.0 ± 0.0</td>\n",
       "    </tr>\n",
       "    <tr>\n",
       "      <th>Lactobacillus salivarius</th>\n",
       "      <td>3.6914 ± 5.9958</td>\n",
       "      <td>2.953 ± 4.7583</td>\n",
       "      <td>3.5103 ± 4.7295</td>\n",
       "      <td>3.3329 ± 6.7903</td>\n",
       "      <td>8.5769 ± 10.8855</td>\n",
       "    </tr>\n",
       "    <tr>\n",
       "      <th>Lactobacillus reuteri</th>\n",
       "      <td>0.0 ± 0.0</td>\n",
       "      <td>0.0467 ± 0.2333</td>\n",
       "      <td>0.0 ± 0.0</td>\n",
       "      <td>0.0 ± 0.0</td>\n",
       "      <td>0.0 ± 0.0</td>\n",
       "    </tr>\n",
       "    <tr>\n",
       "      <th>Pediococcus acidilactici</th>\n",
       "      <td>0.0 ± 0.0</td>\n",
       "      <td>0.0 ± 0.0</td>\n",
       "      <td>0.0 ± 0.0</td>\n",
       "      <td>0.0 ± 0.0</td>\n",
       "      <td>0.0 ± 0.0</td>\n",
       "    </tr>\n",
       "  </tbody>\n",
       "</table>\n",
       "</div>"
      ],
      "text/plain": [
       "                                       35               28               21  \\\n",
       "Bifidobacterium animalis        0.0 ± 0.0        0.0 ± 0.0        0.0 ± 0.0   \n",
       "Enterococcus faecium            0.0 ± 0.0        0.0 ± 0.0        0.0 ± 0.0   \n",
       "Lactobacillus salivarius  3.6914 ± 5.9958   2.953 ± 4.7583  3.5103 ± 4.7295   \n",
       "Lactobacillus reuteri           0.0 ± 0.0  0.0467 ± 0.2333        0.0 ± 0.0   \n",
       "Pediococcus acidilactici        0.0 ± 0.0        0.0 ± 0.0        0.0 ± 0.0   \n",
       "\n",
       "                                       14                7   \n",
       "Bifidobacterium animalis        0.0 ± 0.0   0.5108 ± 1.6582  \n",
       "Enterococcus faecium            0.0 ± 0.0         0.0 ± 0.0  \n",
       "Lactobacillus salivarius  3.3329 ± 6.7903  8.5769 ± 10.8855  \n",
       "Lactobacillus reuteri           0.0 ± 0.0         0.0 ± 0.0  \n",
       "Pediococcus acidilactici        0.0 ± 0.0         0.0 ± 0.0  "
      ]
     },
     "execution_count": 80,
     "metadata": {},
     "output_type": "execute_result"
    }
   ],
   "source": [
    "pd.DataFrame.from_dict(species_case_avg[\"day\"])"
   ]
  },
  {
   "cell_type": "code",
   "execution_count": 81,
   "metadata": {},
   "outputs": [
    {
     "data": {
      "text/html": [
       "<div>\n",
       "<style scoped>\n",
       "    .dataframe tbody tr th:only-of-type {\n",
       "        vertical-align: middle;\n",
       "    }\n",
       "\n",
       "    .dataframe tbody tr th {\n",
       "        vertical-align: top;\n",
       "    }\n",
       "\n",
       "    .dataframe thead th {\n",
       "        text-align: right;\n",
       "    }\n",
       "</style>\n",
       "<table border=\"1\" class=\"dataframe\">\n",
       "  <thead>\n",
       "    <tr style=\"text-align: right;\">\n",
       "      <th></th>\n",
       "      <th>TG1</th>\n",
       "      <th>TG2</th>\n",
       "      <th>TG3</th>\n",
       "      <th>TG4</th>\n",
       "      <th>TG5</th>\n",
       "    </tr>\n",
       "  </thead>\n",
       "  <tbody>\n",
       "    <tr>\n",
       "      <th>Bifidobacterium animalis</th>\n",
       "      <td>0.3113 ± 1.4267</td>\n",
       "      <td>0.0711 ± 0.3408</td>\n",
       "      <td>0.0 ± 0.0</td>\n",
       "      <td>0.0 ± 0.0</td>\n",
       "      <td>0.0 ± 0.0</td>\n",
       "    </tr>\n",
       "    <tr>\n",
       "      <th>Enterococcus faecium</th>\n",
       "      <td>0.0 ± 0.0</td>\n",
       "      <td>0.0 ± 0.0</td>\n",
       "      <td>0.0 ± 0.0</td>\n",
       "      <td>0.0 ± 0.0</td>\n",
       "      <td>0.0 ± 0.0</td>\n",
       "    </tr>\n",
       "    <tr>\n",
       "      <th>Lactobacillus salivarius</th>\n",
       "      <td>12.2813 ± 7.9927</td>\n",
       "      <td>8.6891 ± 5.5627</td>\n",
       "      <td>0.0 ± 0.0</td>\n",
       "      <td>0.0 ± 0.0</td>\n",
       "      <td>0.0 ± 0.0</td>\n",
       "    </tr>\n",
       "    <tr>\n",
       "      <th>Lactobacillus reuteri</th>\n",
       "      <td>0.0555 ± 0.2545</td>\n",
       "      <td>0.0 ± 0.0</td>\n",
       "      <td>0.0 ± 0.0</td>\n",
       "      <td>0.0 ± 0.0</td>\n",
       "      <td>0.0 ± 0.0</td>\n",
       "    </tr>\n",
       "    <tr>\n",
       "      <th>Pediococcus acidilactici</th>\n",
       "      <td>0.0 ± 0.0</td>\n",
       "      <td>0.0 ± 0.0</td>\n",
       "      <td>0.0 ± 0.0</td>\n",
       "      <td>0.0 ± 0.0</td>\n",
       "      <td>0.0 ± 0.0</td>\n",
       "    </tr>\n",
       "  </tbody>\n",
       "</table>\n",
       "</div>"
      ],
      "text/plain": [
       "                                       TG1              TG2        TG3  \\\n",
       "Bifidobacterium animalis   0.3113 ± 1.4267  0.0711 ± 0.3408  0.0 ± 0.0   \n",
       "Enterococcus faecium             0.0 ± 0.0        0.0 ± 0.0  0.0 ± 0.0   \n",
       "Lactobacillus salivarius  12.2813 ± 7.9927  8.6891 ± 5.5627  0.0 ± 0.0   \n",
       "Lactobacillus reuteri      0.0555 ± 0.2545        0.0 ± 0.0  0.0 ± 0.0   \n",
       "Pediococcus acidilactici         0.0 ± 0.0        0.0 ± 0.0  0.0 ± 0.0   \n",
       "\n",
       "                                TG4        TG5  \n",
       "Bifidobacterium animalis  0.0 ± 0.0  0.0 ± 0.0  \n",
       "Enterococcus faecium      0.0 ± 0.0  0.0 ± 0.0  \n",
       "Lactobacillus salivarius  0.0 ± 0.0  0.0 ± 0.0  \n",
       "Lactobacillus reuteri     0.0 ± 0.0  0.0 ± 0.0  \n",
       "Pediococcus acidilactici  0.0 ± 0.0  0.0 ± 0.0  "
      ]
     },
     "execution_count": 81,
     "metadata": {},
     "output_type": "execute_result"
    }
   ],
   "source": [
    "pd.DataFrame.from_dict(species_case_avg[\"treatment\"])"
   ]
  },
  {
   "cell_type": "markdown",
   "metadata": {},
   "source": []
  },
  {
   "cell_type": "code",
   "execution_count": null,
   "metadata": {},
   "outputs": [],
   "source": []
  },
  {
   "cell_type": "code",
   "execution_count": null,
   "metadata": {},
   "outputs": [],
   "source": []
  },
  {
   "cell_type": "markdown",
   "metadata": {},
   "source": [
    "Since we are interested in how communities change per treatment and per day, besides the overall network, we will also build `microbetag`-annotated networks per-day and per-treatment. \n",
    "\n",
    "To do so, we need to split the above dataframes accordingly, for each such _type_."
   ]
  },
  {
   "cell_type": "code",
   "execution_count": 82,
   "metadata": {},
   "outputs": [],
   "source": [
    "for type in types:\n",
    "\n",
    "    # Get the treatment row as a Series\n",
    "    cases = metadata.loc[type, :]\n",
    "\n",
    "    for case in cases.unique():\n",
    "        \n",
    "        if type == \"treatment\":\n",
    "            for i, c in enumerate(case):\n",
    "                if c.isdigit():\n",
    "                    ltype, lcase = case[:i], str(case[i:])\n",
    "                    break\n",
    "        else:\n",
    "            lcase = str(case)\n",
    "            ltype = type\n",
    "\n",
    "        # Get column names (samples) matching the current treatment\n",
    "        selected_samples = cases[cases == case].index\n",
    "\n",
    "        # Subset the metadata to only those samples (i.e., columns)\n",
    "        tr_metadata = metadata[selected_samples]\n",
    "        \n",
    "        # Get same samples from the abundance table\n",
    "        tr_abd = abd[ [\"genome\"] + tr_metadata.columns.tolist() + [\"classification\"]]\n",
    "\n",
    "        # Export those subset of the dataframes to files\n",
    "        abd_outfile  = \"_\".join([\"abd\", ltype, lcase])\n",
    "        abd_outfile += \".tsv\"\n",
    "        meta_outfile = \"_\".join([\"metadata\", ltype, lcase])\n",
    "        meta_outfile += \".tsv\"\n",
    "\n",
    "        tr_abd.to_csv(microbetag_data / \"_\".join([\"per\", type]) / abd_outfile, index=False)\n",
    "        tr_metadata.to_csv(microbetag_data / \"_\".join([\"per\", type]) / meta_outfile, index_label=\"sample\", sep=\"\\t\")"
   ]
  },
  {
   "cell_type": "markdown",
   "metadata": {},
   "source": [
    "Cool! \n",
    "\n",
    "Now, we are ready to fire `microbetag` !\n",
    "\n",
    "We will use _microbetag_  `v1.0.4`. To run `microbetag` we need to fill-in a configuration file, which we need to make sure it is the one that corresponds to the _microbetag_ version we'using."
   ]
  },
  {
   "cell_type": "code",
   "execution_count": 83,
   "metadata": {},
   "outputs": [],
   "source": [
    "import yaml \n",
    "\n",
    "for type in types:\n",
    "\n",
    "    input_dir = microbetag_data / \"_\".join([\"per\", type])\n",
    "\n",
    "    # Find all abd_day_*.tsv files\n",
    "    abd_files = sorted(input_dir.glob(\"abd_*.tsv\"))\n",
    "\n",
    "    for abd_file in abd_files:\n",
    "\n",
    "        # Extract the day number (e.g., 14 from abd_day_14.tsv); .stem is an attribute of a Path object that returns the filename without its suffix (extension).\n",
    "        case = abd_file.stem.split('_')[-1]\n",
    "\n",
    "        if type == \"treatment\":\n",
    "            ltype = \"TG\"\n",
    "            lcase = case.split(\"TG\")[-1]\n",
    "        else:\n",
    "            ltype = type\n",
    "            lcase = str(case)\n",
    "\n",
    "        # Construct the corresponding metadata filename\n",
    "        metadata_file = input_dir / f\"metadata_{ltype}_{lcase}.tsv\"\n",
    "\n",
    "        if metadata_file.exists():\n",
    "\n",
    "            # Open and read the YAML file\n",
    "            with open(microbetag_data / template_config, 'r') as f:\n",
    "                config = yaml.safe_load(f)\n",
    "\n",
    "            config[\"abundance_table_file\"][\"file_path\"] = str(abd_file)\n",
    "            config[\"metadata_file\"][\"file_path\"]        = str(metadata_file)\n",
    "            \n",
    "            # In case of day 7 we need to edit FlashWeave's arguments because of low number of samples\n",
    "            if ltype == \"day\" and lcase == 7: \n",
    "                config[\"max_k\"][\"value\"] = 2\n",
    "                config[\"n_obs_min\"][\"value\"] = 15\n",
    "\n",
    "        else:\n",
    "            print(f\"Warning: Metadata file for {ltype} {lcase} not found!\")\n",
    "\n",
    "        # Export to YAML file\n",
    "        conf_file = \"_\".join([\"config\", ltype, lcase])\n",
    "        conf_file += '.yaml'\n",
    "        with open(conf_file, 'w') as f:\n",
    "            yaml.dump(config, f, sort_keys=False)"
   ]
  },
  {
   "cell_type": "code",
   "execution_count": null,
   "metadata": {},
   "outputs": [],
   "source": [
    "# Build tarball\n",
    "tar -czf reconstructions/GENREs.tar.gz reconstructions/GENREs/\n",
    "tar -czf pathway_complementarity.tar.gz pathway_complementarity/\n",
    "\n",
    "#Decompress tarball \n",
    "tar -zxvf reconstructions/GENREs.tar.gz\n",
    "tar -zxvf pathway_complementarity.tar.gz\n"
   ]
  },
  {
   "cell_type": "markdown",
   "metadata": {},
   "source": [
    "We now call `microbetag` for each configure file built. \n",
    "We have built a bash script for this (`run_mtg.sh`) to avoid notebook-related issues."
   ]
  },
  {
   "cell_type": "markdown",
   "metadata": {},
   "source": [
    "> Attention !\n",
    ">\n",
    "> GitHub has a max size for a single file at 100MB. Thus the precalculations in some cases are stored as tarballs.\n",
    "> In case you run this notebook for the first time, make sure you decompress those under the `mgg_prec` output folder."
   ]
  },
  {
   "cell_type": "markdown",
   "metadata": {},
   "source": [
    "From a terminal, **activate** the _microbetag_ `conda` environment, and make sure `microbetag` is there: "
   ]
  },
  {
   "cell_type": "code",
   "execution_count": null,
   "metadata": {},
   "outputs": [],
   "source": [
    "!microbetag -h"
   ]
  },
  {
   "cell_type": "markdown",
   "metadata": {},
   "source": [
    "Then fire ```bash run_mtg.sh``` - make sure you do so from:"
   ]
  },
  {
   "cell_type": "code",
   "execution_count": null,
   "metadata": {},
   "outputs": [],
   "source": [
    "root "
   ]
  },
  {
   "cell_type": "markdown",
   "metadata": {},
   "source": [
    "The `microbetag`-annotated networks will be stored under `microbetag_nets/`"
   ]
  },
  {
   "cell_type": "code",
   "execution_count": null,
   "metadata": {},
   "outputs": [],
   "source": []
  },
  {
   "cell_type": "markdown",
   "metadata": {},
   "source": [
    "## Functions"
   ]
  },
  {
   "cell_type": "markdown",
   "metadata": {},
   "source": [
    "Load dependencies"
   ]
  },
  {
   "cell_type": "code",
   "execution_count": null,
   "metadata": {},
   "outputs": [],
   "source": [
    "# General\n",
    "import os\n",
    "\n",
    "# Plotting\n",
    "import matplotlib.pyplot as plt\n",
    "import seaborn as sns\n",
    "import matplotlib.lines as mlines\n",
    "import plotly.io as pio\n",
    "import plotly.express as px\n",
    "import webbrowser\n",
    "\n",
    "# Utils\n",
    "from utils import *"
   ]
  },
  {
   "cell_type": "code",
   "execution_count": null,
   "metadata": {},
   "outputs": [],
   "source": [
    "# Load the datasets\n",
    "genome_taxonomy = pd.read_csv(\"../data/gtdbtk.summary.tsv\", sep=\"\\t\")\n",
    "genome_quality = pd.read_csv(\"../data/genomeInfo.csv\")\n",
    "\n",
    "selected_genomes = pd.read_csv(\"../data/Wdb.csv\")\n",
    "selected_genomes[\"genome\"] = selected_genomes[\"genome\"].str.replace(\".fa\", \"\", regex=True)\n",
    "selected_genomes = selected_genomes[\"genome\"]\n",
    "\n",
    "# Modify genome names\n",
    "genome_taxonomy['genome'] = genome_taxonomy['user_genome'].str.replace('.fa', '', regex=True)\n",
    "\n",
    "genome_taxonomy = genome_taxonomy[genome_taxonomy['genome'].isin(selected_genomes)]\n",
    "\n",
    "# Split the classification into separate columns\n",
    "genome_taxonomy[['domain', 'phylum', 'class', 'order', 'family', 'genus', 'species']] = genome_taxonomy['classification'].str.split(';', expand=True)\n",
    "\n",
    "# Select the relevant columns\n",
    "genome_taxonomy = genome_taxonomy[['genome', 'domain', 'phylum', 'class', 'order', 'family', 'genus', 'species']]\n",
    "\n",
    "# Process genome quality data\n",
    "genome_quality['genome'] = genome_quality['genome'].str.replace('.fa', '', regex=True)\n",
    "\n",
    "# Filter only selected genomes (the 223 species-representatives)\n",
    "genome_quality = genome_quality[genome_quality['genome'].isin(selected_genomes)]\n",
    "\n",
    "# Select relevant columns\n",
    "genome_quality = genome_quality[['genome', 'completeness', 'contamination', 'length']]\n",
    "\n",
    "# Merge the two dataframes on the 'genome' column\n",
    "genome_metadata = pd.merge(genome_taxonomy, genome_quality, on='genome', how='left')"
   ]
  },
  {
   "cell_type": "code",
   "execution_count": null,
   "metadata": {},
   "outputs": [],
   "source": [
    "genome_taxonomy.head()\n",
    "genome_quality.head()\n",
    "genome_metadata.head()"
   ]
  },
  {
   "cell_type": "markdown",
   "metadata": {},
   "source": [
    "Functions for the needs of the stats."
   ]
  },
  {
   "cell_type": "markdown",
   "metadata": {},
   "source": [
    "## Discussing the nets"
   ]
  },
  {
   "cell_type": "markdown",
   "metadata": {},
   "source": [
    "***Salmonella*** is *positively* associated with **lactic acid**; in agreement with in vitro data. \n",
    "\n",
    "It’s also *negatively* associated with ***Lactobacillus johnsonii***, with a stronger negative than positive seed score. That means that *Lactobacillus johnsonii* is another probiotic candidate species.\n",
    "\n",
    "*Salmonella* is also *negatively* associated with **time**, which is not unexpected."
   ]
  },
  {
   "cell_type": "markdown",
   "metadata": {},
   "source": [
    "***Ligilactobacillus salivarius*** (PoultryStar member) is *positively* associated to **synbiont-water**, in addition to **TG4** (no PoultryStar), so it does show up in some chickens supposed to have received it. \n",
    "Maybe that means that it is present in some hosts prior to treatment. "
   ]
  },
  {
   "cell_type": "markdown",
   "metadata": {},
   "source": [
    "**TG1** is linked to *Tyzzerella sp.* both in the global network and day 7 network."
   ]
  },
  {
   "cell_type": "markdown",
   "metadata": {},
   "source": [
    "Early days are more strongly shaped by treatment groups than later days.\n",
    "\n",
    "Also, there are more taxon-metabolite associations in later days, with a peak in day 21.\n",
    "\n",
    "There is a jump in node and edge number from 7 to 21 days, though the overall (Pearson) correlation of day to edge or node number is not significant.\n",
    "Thus, the network gets more complex with changing feeding habits.\n"
   ]
  },
  {
   "cell_type": "markdown",
   "metadata": {},
   "source": [
    "It seems that from day 28 to 35, even the number of edges is decreasing, the potential cross feedings are increased."
   ]
  },
  {
   "cell_type": "markdown",
   "metadata": {},
   "source": [
    "## Stats"
   ]
  },
  {
   "cell_type": "markdown",
   "metadata": {},
   "source": [
    "### Prep"
   ]
  },
  {
   "cell_type": "markdown",
   "metadata": {},
   "source": [
    "Keep track of the non-sequence nodes."
   ]
  },
  {
   "cell_type": "code",
   "execution_count": null,
   "metadata": {},
   "outputs": [],
   "source": [
    "env_var = [\"treatment_TG1\", \"treatment_TG2\", \"treatment_TG3\", \"treatment_TG4\", \"treatment_TG5\", \n",
    "           \"day\", \"salmonella\", \"synbiotic_water\", \"synbiotic_feed\"\n",
    "]\n",
    "metabolites = [\n",
    "\"L-Tyrosine\", \"L-Phenylalanine\", \"L-Tryptophan\", \"L-Aspartic Acid\", \"L-Arginine\", \"L-Leucine\", \"L-Glutamic acid\", \"L-Glutamine\", \n",
    "\"L-Histidine\", \"L-Lysine\", \"L-Methionine\", \"L-Proline\", \"L-Threonine\", \"Thiamine\", \"Adenine\", 'Guanosine', \"L-Valine\" , \"L-Alanine\", \n",
    "\"L-Asparagine\", \"L-Isoleucine\", \"L-Serine\", \"Lactic acid\", \"Sulfoacetic acid\"\n",
    "]\n",
    "env_set = set(env_var)\n",
    "metabolites_set = set(metabolites)"
   ]
  },
  {
   "cell_type": "code",
   "execution_count": null,
   "metadata": {},
   "outputs": [],
   "source": [
    "root_dir = os.getcwd()\n",
    "cx_dir = os.path.join(root_dir, \"microbetag_nets\")"
   ]
  },
  {
   "cell_type": "code",
   "execution_count": null,
   "metadata": {},
   "outputs": [],
   "source": [
    "cx_overall_filepath = os.path.join(cx_dir, \"overall.cx2\")\n",
    "cx_overall = load_cx2(cx_overall_filepath)\n",
    "overall_mtg = MggParser(cx_overall, env_set, metabolites_set),"
   ]
  },
  {
   "cell_type": "markdown",
   "metadata": {},
   "source": [
    "### Per day networks"
   ]
  },
  {
   "cell_type": "markdown",
   "metadata": {},
   "source": [
    "#### Prep"
   ]
  },
  {
   "cell_type": "markdown",
   "metadata": {},
   "source": [
    "Calculate statistics on the microbetag-annotated networks per day."
   ]
  },
  {
   "cell_type": "markdown",
   "metadata": {},
   "source": [
    "Load the `.cx2` files "
   ]
  },
  {
   "cell_type": "code",
   "execution_count": null,
   "metadata": {},
   "outputs": [],
   "source": [
    "cx_07_filepath = os.path.join(cx_dir, \"microbetag_net_day_7.cx2\")  ; cx_07 = load_cx2(cx_07_filepath)\n",
    "cx_14_filepath = os.path.join(cx_dir, \"microbetag_net_day_14.cx2\") ; cx_14 = load_cx2(cx_14_filepath)\n",
    "cx_21_filepath = os.path.join(cx_dir, \"microbetag_net_day_21.cx2\") ; cx_21 = load_cx2(cx_21_filepath)\n",
    "cx_28_filepath = os.path.join(cx_dir, \"microbetag_net_day_28.cx2\") ; cx_28 = load_cx2(cx_28_filepath)\n",
    "cx_35_filepath = os.path.join(cx_dir, \"microbetag_net_day_35.cx2\") ; cx_35 = load_cx2(cx_35_filepath)"
   ]
  },
  {
   "cell_type": "markdown",
   "metadata": {},
   "source": [
    "Example of how an edge looks like on the `.cx2` format.\n",
    "```json\n",
    "\n",
    "// Edge example\n",
    "    {'id': 245,\n",
    "    's': 83,\n",
    "    't': 2,\n",
    "    'v': {'interaction type': 'cooccurrence',\n",
    "    'microbetag::weight': 0.9523214101791382,\n",
    "    'shared name': 'L-Leucine (cooccurss with) L-Isoleucine'}}\n",
    "\n",
    "```"
   ]
  },
  {
   "cell_type": "code",
   "execution_count": null,
   "metadata": {},
   "outputs": [],
   "source": [
    "days = [7, 14, 21, 28, 35]"
   ]
  },
  {
   "cell_type": "markdown",
   "metadata": {},
   "source": [
    "#### Count the number of **taxon-metabolite associations** in the day-specific networks and correlate it with day"
   ]
  },
  {
   "cell_type": "code",
   "execution_count": null,
   "metadata": {},
   "outputs": [],
   "source": [
    "days_parsed_nets = {\n",
    "    \"day07\" : MggParser(cx_07, env_set, metabolites_set),\n",
    "    \"day14\" : MggParser(cx_14, env_set, metabolites_set),\n",
    "    \"day21\" : MggParser(cx_21, env_set, metabolites_set),\n",
    "    \"day28\" : MggParser(cx_28, env_set, metabolites_set),\n",
    "    \"day35\" : MggParser(cx_35, env_set, metabolites_set)\n",
    "}"
   ]
  },
  {
   "cell_type": "code",
   "execution_count": null,
   "metadata": {},
   "outputs": [],
   "source": [
    "taxon_to_metabo_hits = [\n",
    "    net.edge_types[\"taxon_to_metabo\"][\"counts\"] for _, net in days_parsed_nets.items()\n",
    "]\n",
    "taxon_to_metabo_hits"
   ]
  },
  {
   "cell_type": "code",
   "execution_count": null,
   "metadata": {},
   "outputs": [],
   "source": [
    "# What to plot\n",
    "plt.plot(days, taxon_to_metabo_hits, marker='o', linestyle='-')\n",
    "# Labels and title\n",
    "plt.xlabel(\"day\")\n",
    "plt.ylabel(\"number of edges\")\n",
    "plt.title(\"Edges between a taxon and a metabolite in day-oriented networks\")\n",
    "# Show time\n",
    "plt.show()\n"
   ]
  },
  {
   "cell_type": "markdown",
   "metadata": {},
   "source": [
    "#### Count the number of taxon-treatment associations in the day-specific networks"
   ]
  },
  {
   "cell_type": "code",
   "execution_count": null,
   "metadata": {},
   "outputs": [],
   "source": [
    "taxon_to_env_hits = [\n",
    "    net.edge_types[\"taxon_to_env\"][\"counts\"] for _, net in days_parsed_nets.items()\n",
    "]"
   ]
  },
  {
   "cell_type": "code",
   "execution_count": null,
   "metadata": {},
   "outputs": [],
   "source": [
    "# What to plot\n",
    "plt.plot(days, taxon_to_env_hits, marker='o', linestyle='-')\n",
    "# Labels and title\n",
    "plt.xlabel(\"day\")\n",
    "plt.ylabel(\"number of edges\")\n",
    "plt.title(\"Edges between a taxon and a treatment variable in day-oriented networks\")\n",
    "# Show time\n",
    "plt.show()"
   ]
  },
  {
   "cell_type": "markdown",
   "metadata": {},
   "source": [
    "#### Correlate time vs total number of cross-feedings across day-specific networks"
   ]
  },
  {
   "cell_type": "code",
   "execution_count": null,
   "metadata": {},
   "outputs": [],
   "source": [
    "overall_number_of_seed_compl = [\n",
    "    sum(net.num_total_compls.values()) for _, net in days_parsed_nets.items()\n",
    "]"
   ]
  },
  {
   "cell_type": "code",
   "execution_count": null,
   "metadata": {},
   "outputs": [],
   "source": [
    "# What to plot\n",
    "plt.plot(days, overall_number_of_seed_compl, marker='o', linestyle='-')\n",
    "# Labels and title\n",
    "plt.xlabel(\"day\")\n",
    "plt.ylabel(\"number of complements\")\n",
    "plt.title(\"Number of seed complements across day-specific networks\")\n",
    "# Show time\n",
    "plt.show()"
   ]
  },
  {
   "cell_type": "markdown",
   "metadata": {},
   "source": [
    "#### Correlation between number of positive taxon-to-taxon edged and predicted cross-feedings in day-specific networks "
   ]
  },
  {
   "cell_type": "code",
   "execution_count": null,
   "metadata": {},
   "outputs": [],
   "source": [
    "number_of_seed_compl_per_day_in_positive_associated_taxa = [\n",
    "    get_compls_and_compounds_in_positive_associated_taxa(\n",
    "        net.cx2, \n",
    "        net.pos_pairs_node_ids, \n",
    "        net.num_total_compls, \n",
    "        net.edge_id_to_unique_compounds\n",
    "        )[0] \n",
    "    for _, net in days_parsed_nets.items()\n",
    "]"
   ]
  },
  {
   "cell_type": "code",
   "execution_count": null,
   "metadata": {},
   "outputs": [],
   "source": [
    "# What to plot\n",
    "plt.plot(days, number_of_seed_compl_per_day_in_positive_associated_taxa, marker='o', linestyle='-')\n",
    "# Labels and title\n",
    "plt.xlabel(\"day\")\n",
    "plt.ylabel(\"number of complements\")\n",
    "plt.title(\"Number of seed complements between co-occurrying taxa - positive\")\n",
    "# Show time\n",
    "plt.show()"
   ]
  },
  {
   "cell_type": "code",
   "execution_count": null,
   "metadata": {},
   "outputs": [],
   "source": [
    "mean_of_seed_compl_in_positive_associated_taxa = [\n",
    "    number_of_seed_compl_per_day_in_positive_associated_taxa[index] / len(net.pos_pairs_node_ids) for index, net in enumerate(days_parsed_nets.values())\n",
    "]\n",
    "mean_overall_number_of_seed_compl = [\n",
    "    overall_number_of_seed_compl[index] /  len(net.num_total_compls)  for index, net in enumerate(days_parsed_nets.values())\n",
    "]"
   ]
  },
  {
   "cell_type": "code",
   "execution_count": null,
   "metadata": {},
   "outputs": [],
   "source": [
    "# What to plot\n",
    "plt.plot(days, mean_of_seed_compl_in_positive_associated_taxa, marker='o', linestyle='-', label=\"between co-occurrying taxa\")\n",
    "plt.plot(days, mean_overall_number_of_seed_compl, marker=\"*\", linestyle=\"dotted\", color=\"grey\", label=\"overall taxon-to-taxon\")\n",
    "# Labels and title\n",
    "plt.xlabel(\"day\")\n",
    "plt.ylabel(\"mean of number of complements\")\n",
    "plt.title(\"Mean number of seed complements between co-occurrying taxa acrross day-oriented networks\")\n",
    "# Show time\n",
    "plt.show()"
   ]
  },
  {
   "cell_type": "markdown",
   "metadata": {},
   "source": [
    "#### Unique compounds involved in potential cross-feedings"
   ]
  },
  {
   "cell_type": "code",
   "execution_count": null,
   "metadata": {},
   "outputs": [],
   "source": [
    "unique_compounds_in_cf_of_positive_associated_taxa = [\n",
    "    get_compls_and_compounds_in_positive_associated_taxa(\n",
    "        net.cx2, \n",
    "        net.pos_pairs_node_ids, \n",
    "        net.num_total_compls, \n",
    "        net.edge_id_to_unique_compounds\n",
    "        )[1]\n",
    "    for _, net in days_parsed_nets.items()\n",
    "]"
   ]
  },
  {
   "cell_type": "code",
   "execution_count": null,
   "metadata": {},
   "outputs": [],
   "source": [
    "lengths = [\n",
    "    len(x) for x in unique_compounds_in_cf_of_positive_associated_taxa\n",
    "]"
   ]
  },
  {
   "cell_type": "code",
   "execution_count": null,
   "metadata": {},
   "outputs": [],
   "source": [
    "plt.plot(days, lengths, marker='o', linestyle='-')\n",
    "\n",
    "# Labels and title\n",
    "plt.xlabel(\"day\")\n",
    "plt.ylabel(\"number of unique compounds \")\n",
    "plt.title(\"Number of unique compound involved in potential cross-feeding in positive\")\n",
    "\n",
    "# Show the plot\n",
    "plt.show()"
   ]
  },
  {
   "cell_type": "code",
   "execution_count": null,
   "metadata": {},
   "outputs": [],
   "source": [
    "day_set = { \"day_\" + str(i): j for i,j in zip(days, unique_compounds_in_cf_of_positive_associated_taxa)}"
   ]
  },
  {
   "cell_type": "code",
   "execution_count": null,
   "metadata": {},
   "outputs": [],
   "source": [
    "venn(day_set)\n",
    "plt.title(\"Overlap of the compounds involved in the potential cross-feeding interactions across the per-day networks\")\n",
    "\n",
    "# Show the plot\n",
    "plt.show()"
   ]
  },
  {
   "cell_type": "code",
   "execution_count": null,
   "metadata": {},
   "outputs": [],
   "source": [
    "day7 = days_parsed_nets[\"day07\"]"
   ]
  },
  {
   "cell_type": "markdown",
   "metadata": {},
   "source": [
    "\n",
    "```python\n",
    "# node ids 15-112 both in cooccurence and complets/copmetes\n",
    "day7.cx2.get_edges()\n",
    "```"
   ]
  },
  {
   "cell_type": "code",
   "execution_count": null,
   "metadata": {},
   "outputs": [],
   "source": [
    "dfs = {}\n",
    "\n",
    "ratio_ggplots = []\n",
    "\n",
    "for _, day in enumerate(days_parsed_nets):                      # # NOTE (Haris Zafeiropoulos, 2025-04-02):  Enumerate will keep the same order as long as we do not edit the days_parased_nets dictionary\n",
    "\n",
    "    day_net = days_parsed_nets[day]\n",
    "\n",
    "    df = process_cooccurrence_and_regression(\n",
    "        day_net, day, metabolites, env_set\n",
    "    )\n",
    "\n",
    "    dfs[day] = df\n",
    "\n",
    "\n",
    "for day, df in dfs.items():\n",
    "\n",
    "        ratio_ggplots.append( plot_neighbors_per_seed_compl(df, day,  model=\"WLS\") )  # or OLS"
   ]
  },
  {
   "cell_type": "code",
   "execution_count": null,
   "metadata": {},
   "outputs": [],
   "source": [
    "dfs[\"day35\"]"
   ]
  },
  {
   "cell_type": "code",
   "execution_count": null,
   "metadata": {},
   "outputs": [],
   "source": [
    "for day, df in dfs.items():\n",
    "\n",
    "    r2, p_v = weighted_pearson_with_pvalue(df, \"neighbors_num\", \"compl_ratio\", \"compl_ratio\")\n",
    "    \n",
    "    print(day, r2, p_v)\n",
    "    \n",
    "    \n",
    "    spearman = spearman_corr(df, \"neighbors_num\", \"compl_ratio\")\n",
    "    \n",
    "    print(day, spearman)\n"
   ]
  },
  {
   "cell_type": "markdown",
   "metadata": {},
   "source": [
    "In the `ratio_ggplots`, we now have for each day net its corresponding plot:"
   ]
  },
  {
   "cell_type": "code",
   "execution_count": null,
   "metadata": {},
   "outputs": [],
   "source": [
    "ratio_ggplots[0][0]"
   ]
  },
  {
   "cell_type": "markdown",
   "metadata": {},
   "source": [
    "but also, its data frame."
   ]
  },
  {
   "cell_type": "code",
   "execution_count": null,
   "metadata": {},
   "outputs": [],
   "source": [
    "ratio_ggplots[0][1]"
   ]
  },
  {
   "cell_type": "markdown",
   "metadata": {},
   "source": [
    "To save all the per day plots with the seed complementarities number against the number of positive neighbors:"
   ]
  },
  {
   "cell_type": "code",
   "execution_count": null,
   "metadata": {},
   "outputs": [],
   "source": [
    "for index, plot in enumerate(ratio_ggplots):\n",
    "    \n",
    "    ggsave(plot[0], filename=f\"figs/seed_stats/compls_per_neighbor_wls_{days[index]}.svg\", width=8, height=8, format=\"svg\", dpi=300)"
   ]
  },
  {
   "cell_type": "code",
   "execution_count": null,
   "metadata": {},
   "outputs": [],
   "source": [
    "df = process_cooccurrence_and_regression(\n",
    "        overall_mtg[0], \"overall\", metabolites, env_set\n",
    "    )\n",
    "df"
   ]
  },
  {
   "cell_type": "code",
   "execution_count": null,
   "metadata": {},
   "outputs": [],
   "source": [
    "overall = plot_neighbors_per_seed_compl(df, \"overall\")"
   ]
  },
  {
   "cell_type": "code",
   "execution_count": null,
   "metadata": {},
   "outputs": [],
   "source": [
    "ggsave(overall[0], filename=\"figs/seed_stats/compls_per_neighbor_wls_overall.svg\", width=8, height=8, format=\"svg\", dpi=300)"
   ]
  },
  {
   "cell_type": "markdown",
   "metadata": {},
   "source": [
    "Use the genome metadata `df` we built in the beginning of the notebook, to get the genome size of each MAG."
   ]
  },
  {
   "cell_type": "code",
   "execution_count": null,
   "metadata": {},
   "outputs": [],
   "source": [
    "for df in dfs.values():\n",
    "    df[\"genome size\"] = df[\"name\"].map(genome_metadata.set_index(\"genome\")[\"length\"])\n",
    "    df.rename(columns={\"neighbors_num\": \"number of neighbors\", \"compl_ratio\": \"seed complements per neighbor\"}, inplace=True)\n",
    "df.head()"
   ]
  },
  {
   "cell_type": "code",
   "execution_count": null,
   "metadata": {},
   "outputs": [],
   "source": [
    "# Create 3D scatter plot\n",
    "fig = px.scatter_3d(\n",
    "    df, \n",
    "    x='number of neighbors', \n",
    "    y='seed complements per neighbor', \n",
    "    z='genome size', \n",
    "    color='order',  \n",
    "    symbol='order',  \n",
    "    size_max=10,\n",
    "    opacity=0.8\n",
    ")"
   ]
  },
  {
   "cell_type": "code",
   "execution_count": null,
   "metadata": {},
   "outputs": [],
   "source": [
    "# Save the plot as an HTML file\n",
    "html_file = \"plotly_3d_plot2.html\"\n",
    "fig.write_html(html_file)\n",
    "\n",
    "# Open the HTML file in the default web browser\n",
    "webbrowser.open(html_file)"
   ]
  },
  {
   "cell_type": "markdown",
   "metadata": {},
   "source": [
    "After I open the `.html` file on my browser, I turned it around a bit and I extracted its ***camera settings*** by moving to the *Inspect* and running the following command on the `Console`:\n",
    "\n",
    "\n",
    "    JSON.stringify(document.querySelector(\"div.js-plotly-plot\")._fullLayout.scene.camera)\n"
   ]
  },
  {
   "cell_type": "code",
   "execution_count": null,
   "metadata": {},
   "outputs": [],
   "source": [
    "camera_settings = {\n",
    "    \"up\":{\"x\":0,\"y\":0,\"z\":1},\n",
    "    \"center\":{\"x\":0,\"y\":0,\"z\":0},\n",
    "    \"eye\":{\"x\":-1.0142173958395229,\"y\":1.6792529527047904,\"z\":0.9159544720174357},\n",
    "    \"projection\":{\"type\":\"perspective\"}\n",
    "}\n"
   ]
  },
  {
   "cell_type": "code",
   "execution_count": null,
   "metadata": {},
   "outputs": [],
   "source": [
    "fig.update_layout(\n",
    "    scene_camera=camera_settings,\n",
    "    width=1200,  # Width of the figure in pixels\n",
    "    height=1000,  # Height of the figure in pixels\n",
    "    plot_bgcolor='rgba(0, 0, 0, 0)',  # Transparent background for the plot area\n",
    "    paper_bgcolor='rgba(0, 0, 0, 0)',  # Transparent background for the surrounding area\n",
    "    font=dict(size=14),  # Increase font size for axes and other text elements\n",
    "    title_font = {\"size\": 40},\n",
    "    yaxis_title_font=dict(size=20)   # Increase font size for y-axis label\n",
    ")\n",
    "\n",
    "fig.update_xaxes(title='New x label')\n",
    "\n",
    "\n",
    "# Save the figure as an SVG file\n",
    "pio.write_image(fig, \"plot.svg\")"
   ]
  },
  {
   "cell_type": "code",
   "execution_count": null,
   "metadata": {},
   "outputs": [],
   "source": []
  },
  {
   "cell_type": "code",
   "execution_count": null,
   "metadata": {},
   "outputs": [],
   "source": []
  },
  {
   "cell_type": "code",
   "execution_count": null,
   "metadata": {},
   "outputs": [],
   "source": [
    "# cx_07\n",
    "# days_parsed_nets[\"day07\"].edge_types.keys()\n",
    "\n",
    "taxa_pair_2_edge_id = {}\n",
    "for edge_id in cx_07.get_edges():\n",
    "    edge = cx_07.get_edge(edge_id)    \n",
    "    pair = (edge[\"s\"], edge[\"t\"])\n",
    "    if edge[\"v\"][\"interaction type\"] != \"completes/competes with\":    \n",
    "        taxa_pair_2_edge_id[pair] = edge_id\n",
    "\n",
    "\n",
    "pos_weight_scores, neg_weight_scores = {}, {}\n",
    "for edge_id in days_parsed_nets[\"day07\"].edge_types[\"taxon_to_taxon\"][\"edges\"]:\n",
    "    edge = cx_07.get_edge(edge_id)\n",
    "    if edge[\"v\"][\"interaction type\"] in [\"cooccurrence\", \"depletion\"]:\n",
    "        continue\n",
    "\n",
    "    comp, coop, s, t = edge[\"v\"][\"seed::competition\"], edge[\"v\"][\"seed::cooperation\"], edge[\"s\"], edge[\"t\"]\n",
    "    eid = taxa_pair_2_edge_id.get((s, t), taxa_pair_2_edge_id.get((t, s)))\n",
    "\n",
    "    flashweave_score = cx_07.get_edge(eid)[\"v\"][\"microbetag::weight\"]\n",
    "    target = pos_weight_scores if flashweave_score > 0 else neg_weight_scores\n",
    "    target[edge_id] = {\"cooperation\": coop, \"competition\": comp}\n",
    "    \n",
    "    if flashweave_score > 0:\n",
    "        target[edge_id][\"cooccurrence\"] = flashweave_score\n",
    "    else:\n",
    "        target[edge_id][\"depletion\"] = flashweave_score\n"
   ]
  },
  {
   "cell_type": "code",
   "execution_count": null,
   "metadata": {},
   "outputs": [],
   "source": [
    "df = pd.DataFrame.from_dict(pos_weight_scores, orient=\"index\")\n",
    "df.head()"
   ]
  },
  {
   "cell_type": "code",
   "execution_count": null,
   "metadata": {},
   "outputs": [],
   "source": [
    "from scipy.stats import pearsonr, spearmanr\n",
    "df = df.astype(float) \n",
    "pearson_corr, _ = pearsonr(df[\"cooperation\"], df[\"cooccurrence\"])\n",
    "print(\"Pearson correlation:\", pearson_corr)\n",
    "\n",
    "# Spearman correlation (if the relationship is non-linear)\n",
    "spearman_corr, _ = spearmanr(df[\"cooperation\"], df[\"cooccurrence\"])\n",
    "print(\"Spearman correlation:\", spearman_corr)"
   ]
  },
  {
   "cell_type": "code",
   "execution_count": null,
   "metadata": {},
   "outputs": [],
   "source": [
    "from scipy.stats import pearsonr, spearmanr\n",
    "df = df.astype(float) \n",
    "pearson_corr, _ = pearsonr(df[\"competition\"], df[\"cooccurrence\"])\n",
    "print(\"Pearson correlation:\", pearson_corr)\n",
    "\n",
    "# Spearman correlation (if the relationship is non-linear)\n",
    "spearman_corr, _ = spearmanr(df[\"competition\"], df[\"cooccurrence\"])\n",
    "print(\"Spearman correlation:\", spearman_corr)"
   ]
  },
  {
   "cell_type": "code",
   "execution_count": null,
   "metadata": {},
   "outputs": [],
   "source": [
    "sns.regplot(x=df[\"cooperation\"], y=df[\"cooccurrence\"], scatter_kws={\"alpha\": 0.7}, line_kws={\"color\": \"red\"})\n",
    "plt.title(\"Regression Plot: Cooperation vs. Cooccurrence\")\n",
    "plt.show()"
   ]
  },
  {
   "cell_type": "code",
   "execution_count": null,
   "metadata": {},
   "outputs": [],
   "source": [
    "from scipy.stats import pearsonr, spearmanr\n",
    "df = pd.DataFrame.from_dict(neg_weight_scores, orient=\"index\")\n",
    "df = df.astype(float) \n",
    "df.head()\n",
    "\n",
    "pearson_corr, _ = pearsonr(df[\"cooperation\"], df[\"depletion\"])\n",
    "print(\"Pearson correlation:\", pearson_corr)\n",
    "\n",
    "# Spearman correlation (if the relationship is non-linear)\n",
    "spearman_corr, _ = spearmanr(df[\"cooperation\"], df[\"depletion\"])\n",
    "print(\"Spearman correlation:\", spearman_corr)"
   ]
  },
  {
   "cell_type": "code",
   "execution_count": null,
   "metadata": {},
   "outputs": [],
   "source": [
    "sns.regplot(x=df[\"cooperation\"], y=df[\"depletion\"], scatter_kws={\"alpha\": 0.7}, line_kws={\"color\": \"red\"})\n",
    "plt.title(\"Regression Plot: Cooperation vs. Cooccurrence\")\n",
    "plt.show()"
   ]
  },
  {
   "cell_type": "code",
   "execution_count": null,
   "metadata": {},
   "outputs": [],
   "source": [
    "sns.regplot(x=df[\"competition\"], y=df[\"depletion\"], scatter_kws={\"alpha\": 0.7}, line_kws={\"color\": \"red\"})\n",
    "plt.title(\"Regression Plot: Cooperation vs. Cooccurrence\")\n",
    "plt.show()"
   ]
  },
  {
   "cell_type": "code",
   "execution_count": null,
   "metadata": {},
   "outputs": [],
   "source": []
  },
  {
   "cell_type": "code",
   "execution_count": null,
   "metadata": {},
   "outputs": [],
   "source": [
    "day_cx_objects = {\n",
    "    \"day07\": cx_07,\n",
    "    \"day14\": cx_14,\n",
    "    \"day21\": cx_21,\n",
    "    \"day28\": cx_28,\n",
    "    \"day35\": cx_35\n",
    "}\n",
    "\n",
    "all_scores = {\n",
    "    day: compute_weight_scores(cx_net, days_parsed_nets[day])\n",
    "    for day, cx_net in day_cx_objects.items()  # Assuming `cx_objects` stores CX networks for each day\n",
    "}"
   ]
  },
  {
   "cell_type": "code",
   "execution_count": null,
   "metadata": {},
   "outputs": [],
   "source": [
    "import scipy.stats as stats\n",
    "\n",
    "def plot_regression(ax, df, x_col, y_col, title):\n",
    "    \"\"\"Plots a regression plot on the given Axes object and includes p-value and R-squared.\"\"\"\n",
    "    # Perform linear regression to get p-value and R-squared\n",
    "    slope, intercept, r_value, p_value, std_err = stats.linregress(df[x_col], df[y_col])\n",
    "    r_squared = r_value**2\n",
    "    \n",
    "    # Create the regression plot\n",
    "    sns.regplot(x=df[x_col], y=df[y_col], scatter_kws={\"alpha\": 0.7}, line_kws={\"color\": \"red\"}, ax=ax)\n",
    "    \n",
    "    # Add p-value and R-squared to the title\n",
    "    ax.set_title(f\"{title}\\n$R^2$ = {r_squared:.2f}, p-value = {p_value:.4f}\")\n",
    "\n",
    "# def plot_regression(ax, df, x1_col, x2_col, y_col, title, color1=\"red\", color2=\"blue\"):\n",
    "#     \"\"\"Plots two regression plots on the same Axes object and includes p-value & R-squared.\"\"\"\n",
    "    \n",
    "#     # First regression (x1_col vs y_col)\n",
    "#     slope1, intercept1, r_value1, p_value1, std_err1 = stats.linregress(df[x1_col], df[y_col])\n",
    "#     r_squared1 = r_value1**2\n",
    "#     sns.regplot(x=df[x1_col], y=df[y_col], scatter_kws={\"alpha\": 0.7}, line_kws={\"color\": color1}, ax=ax, label=f\"{x1_col} (R²={r_squared1:.2f}, p={p_value1:.4f})\")\n",
    "    \n",
    "#     # Second regression (x2_col vs y_col)\n",
    "#     slope2, intercept2, r_value2, p_value2, std_err2 = stats.linregress(df[x2_col], df[y_col])\n",
    "#     r_squared2 = r_value2**2\n",
    "#     sns.regplot(x=df[x2_col], y=df[y_col], scatter_kws={\"alpha\": 0.7}, line_kws={\"color\": color2}, ax=ax, label=f\"{x2_col} (R²={r_squared2:.2f}, p={p_value2:.4f})\")\n",
    "    \n",
    "#     # Titles and legend\n",
    "#     ax.set_title(title)\n",
    "#     ax.legend()\n",
    "\n",
    "\n",
    "def plot_dual_regression(ax, df, x_col, y1_col, y2_col, title, color1=\"blue\", color2=\"red\"):\n",
    "    \"\"\"Plots two regressions with separate y-axes: one for y1_col (left) and y2_col (right).\"\"\"\n",
    "    \n",
    "    # Left Y-axis (cooperation vs cooccurrence)\n",
    "    ax1 = ax\n",
    "    slope1, intercept1, r_value1, p_value1, std_err1 = stats.linregress(df[x_col], df[y1_col])\n",
    "    r_squared1 = r_value1**2\n",
    "    sns.regplot(x=df[x_col], y=df[y1_col], scatter_kws={\"alpha\": 0.7}, line_kws={\"color\": color1}, ax=ax1)\n",
    "    ax1.set_ylabel(y1_col, color=color1)\n",
    "    ax1.tick_params(axis=\"y\", colors=color1)\n",
    "    \n",
    "    # Right Y-axis (competition vs cooccurrence)\n",
    "    ax2 = ax1.twinx()\n",
    "    slope2, intercept2, r_value2, p_value2, std_err2 = stats.linregress(df[x_col], df[y2_col])\n",
    "    r_squared2 = r_value2**2\n",
    "    sns.regplot(x=df[x_col], y=df[y2_col], scatter_kws={\"alpha\": 0.3, \"color\": \"red\"}, line_kws={\"color\": color2}, ax=ax2)\n",
    "    ax2.set_ylabel(y2_col, color=color2)\n",
    "    ax2.tick_params(axis=\"y\", colors=color2)\n",
    "\n",
    "    # Titles\n",
    "    ax1.set_xlabel(x_col)\n",
    "    ax1.set_title(f\"{title}\\n{y1_col}: R²={r_squared1:.2f}, p={p_value1:.4f} | {y2_col}: R²={r_squared2:.2f}, p={p_value2:.4f}\")\n",
    "\n",
    "\n"
   ]
  },
  {
   "cell_type": "code",
   "execution_count": null,
   "metadata": {},
   "outputs": [],
   "source": [
    "# Define figure with 3 rows × 2 columns\n",
    "fig, axes = plt.subplots(3, 2, figsize=(15, 12))  \n",
    "axes = axes.flatten()  # Flatten to 1D for easy indexing\n",
    "\n",
    "# Loop over networks & plot\n",
    "for i, (day, scores) in enumerate(all_scores.items()):\n",
    "    if i >= 6:  # Limit to 6 plots (3×2 grid)\n",
    "        break\n",
    "\n",
    "    # Handle positive weight scores\n",
    "    pos_scores = scores[\"pos\"]\n",
    "    pos_df = pd.DataFrame.from_dict(pos_scores, orient=\"index\")\n",
    "    pos_df = pos_df.apply(pd.to_numeric, errors=\"coerce\").dropna()  # Ensure numeric values and drop NaN rows\n",
    "    \n",
    "    if not pos_df.empty:  # Plot positive weight scores\n",
    "        plot_regression(axes[i], pos_df, \"competition\", \"cooccurrence\", f\"{day} (Pos Scores)\")\n",
    "        # plot_regression(axes[i], pos_df, \"cooperation\", \"cooccurrence\", f\"{day} (Pos Scores)\")\n",
    "        # plot_dual_regression(axes[i], pos_df, \"cooccurrence\", \"cooperation\", \"competition\", f\"{day} (Pos Scores)\")\n",
    "\n",
    "# Adjust layout to prevent overlapping\n",
    "plt.tight_layout()\n",
    "plt.show()"
   ]
  },
  {
   "cell_type": "code",
   "execution_count": null,
   "metadata": {},
   "outputs": [],
   "source": [
    "# Define figure with 3 rows × 2 columns\n",
    "fig, axes = plt.subplots(3, 2, figsize=(15, 12))  \n",
    "axes = axes.flatten()  # Flatten to 1D for easy indexing\n",
    "\n",
    "# Loop over networks & plot\n",
    "for i, (day, scores) in enumerate(all_scores.items()):\n",
    " \n",
    "    # Handle negative weight scores (next available subplot)\n",
    "    neg_scores = scores[\"neg\"]\n",
    "    neg_df = pd.DataFrame.from_dict(neg_scores, orient=\"index\")\n",
    "    neg_df = neg_df.apply(pd.to_numeric, errors=\"coerce\").dropna()  # Ensure numeric values and drop NaN rows\n",
    "    \n",
    "    if not neg_df.empty:  # Plot negative weight scores in the next available subplot\n",
    "        if i + 1 < 6:  # Ensure we don't exceed the grid\n",
    "            # plot_regression(axes[i + 1], neg_df, \"competition\", \"depletion\", f\"{day} (Neg Scores)\")\n",
    "            # plot_regression(axes[i + 1], neg_df, \"cooperation\", \"depletion\", f\"{day} (Neg Scores)\")\n",
    "            plot_dual_regression(axes[i], neg_df, \"depletion\", \"cooperation\", \"competition\", f\"{day} (Neg Scores)\")\n",
    "\n",
    "# Adjust layout to prevent overlapping\n",
    "plt.tight_layout()\n",
    "plt.show()"
   ]
  },
  {
   "cell_type": "markdown",
   "metadata": {},
   "source": [
    "### Per treatment"
   ]
  },
  {
   "cell_type": "markdown",
   "metadata": {},
   "source": [
    "#### Prep"
   ]
  },
  {
   "cell_type": "code",
   "execution_count": null,
   "metadata": {},
   "outputs": [],
   "source": [
    "cx_tg1_filepath = os.path.join(cx_dir, \"microbetag_net_TG1.cx2\") ; cx_tg_1 = load_cx2(cx_tg1_filepath)\n",
    "cx_tg2_filepath = os.path.join(cx_dir, \"microbetag_net_TG2.cx2\") ; cx_tg_2 = load_cx2(cx_tg2_filepath)\n",
    "cx_tg3_filepath = os.path.join(cx_dir, \"microbetag_net_TG3.cx2\") ; cx_tg_3 = load_cx2(cx_tg3_filepath)\n",
    "cx_tg4_filepath = os.path.join(cx_dir, \"microbetag_net_TG4.cx2\") ; cx_tg_4 = load_cx2(cx_tg4_filepath)\n",
    "cx_tg5_filepath = os.path.join(cx_dir, \"microbetag_net_TG5.cx2\") ; cx_tg_5 = load_cx2(cx_tg5_filepath)"
   ]
  },
  {
   "cell_type": "code",
   "execution_count": null,
   "metadata": {},
   "outputs": [],
   "source": [
    "treatment_parsed_nets = {\n",
    "    \"TG1\" : MggParser(cx_tg_1, env_set, metabolites_set),\n",
    "    \"TG2\" : MggParser(cx_tg_2, env_set, metabolites_set),\n",
    "    \"TG3\" : MggParser(cx_tg_3, env_set, metabolites_set),\n",
    "    \"TG4\" : MggParser(cx_tg_4, env_set, metabolites_set),\n",
    "    \"TG5\" : MggParser(cx_tg_5, env_set, metabolites_set)\n",
    "}"
   ]
  },
  {
   "cell_type": "code",
   "execution_count": null,
   "metadata": {},
   "outputs": [],
   "source": [
    "treatment_cx_objects = {\n",
    "    \"TG1\": cx_tg_1,\n",
    "    \"TG2\": cx_tg_2,\n",
    "    \"TG3\": cx_tg_3,\n",
    "    \"TG4\": cx_tg_4,\n",
    "    \"TG5\": cx_tg_5\n",
    "}"
   ]
  },
  {
   "cell_type": "code",
   "execution_count": null,
   "metadata": {},
   "outputs": [],
   "source": [
    "all_scores_treatments = {\n",
    "    treatment: compute_weight_scores(cx_net, treatment_parsed_nets[treatment])\n",
    "    for treatment, cx_net in treatment_cx_objects.items()  # Assuming `cx_objects` stores CX networks for each day\n",
    "}"
   ]
  },
  {
   "cell_type": "code",
   "execution_count": null,
   "metadata": {},
   "outputs": [],
   "source": [
    "# Define figure with 3 rows × 2 columns\n",
    "fig, axes = plt.subplots(3, 2, figsize=(15, 12))  \n",
    "axes = axes.flatten()  # Flatten to 1D for easy indexing\n",
    "\n",
    "# Loop over networks & plot\n",
    "for i, (day, scores) in enumerate(all_scores_treatments.items()):\n",
    "    if i >= 6:  # Limit to 6 plots (3×2 grid)\n",
    "        break\n",
    "\n",
    "    # Handle negative weight scores (next available subplot)\n",
    "    neg_scores = scores[\"neg\"]\n",
    "    neg_df = pd.DataFrame.from_dict(neg_scores, orient=\"index\")\n",
    "    neg_df = neg_df.apply(pd.to_numeric, errors=\"coerce\").dropna()  # Ensure numeric values and drop NaN rows\n",
    "    \n",
    "    if not neg_df.empty:  # Plot negative weight scores in the next available subplot\n",
    "        if i + 1 < 6:  # Ensure we don't exceed the grid\n",
    "            # plot_regression(axes[i + 1], neg_df, \"competition\", \"depletion\", f\"{day} (Neg Scores)\")\n",
    "            plot_dual_regression(axes[i], neg_df, \"depletion\", \"cooperation\", \"competition\", f\"{day} (Neg Scores)\")\n",
    "\n",
    "            \n",
    "\n",
    "# Adjust layout to prevent overlapping\n",
    "plt.tight_layout()\n",
    "plt.show()"
   ]
  },
  {
   "cell_type": "code",
   "execution_count": null,
   "metadata": {},
   "outputs": [],
   "source": [
    "# Define figure with 3 rows × 2 columns\n",
    "fig, axes = plt.subplots(3, 2, figsize=(15, 12))  \n",
    "axes = axes.flatten()  # Flatten to 1D for easy indexing\n",
    "\n",
    "# Loop over networks & plot\n",
    "for i, (day, scores) in enumerate(all_scores_treatments.items()):\n",
    "    if i >= 6:  # Limit to 6 plots (3×2 grid)\n",
    "        break\n",
    "    # Handle positive weight scores\n",
    "    pos_scores = scores[\"pos\"]\n",
    "    pos_df = pd.DataFrame.from_dict(pos_scores, orient=\"index\")\n",
    "    pos_df = pos_df.apply(pd.to_numeric, errors=\"coerce\").dropna()  # Ensure numeric values and drop NaN rows\n",
    "    if not pos_df.empty:  # Plot positive weight scores\n",
    "        # plot_regression(axes[i], pos_df, \"cooperation\", \"cooccurrence\", f\"{day} (Pos Scores)\")\n",
    "        plot_dual_regression(axes[i], pos_df, \"cooccurrence\", \"cooperation\", \"competition\", f\"{day} (Pos Scores)\")\n",
    "\n",
    "# Adjust layout to prevent overlapping\n",
    "plt.tight_layout()\n",
    "plt.show()"
   ]
  },
  {
   "cell_type": "code",
   "execution_count": null,
   "metadata": {},
   "outputs": [],
   "source": [
    "pos_df"
   ]
  },
  {
   "cell_type": "code",
   "execution_count": null,
   "metadata": {},
   "outputs": [],
   "source": [
    "tg_microbetag_nets = [cx_tg_1, cx_tg_2, cx_tg_3, cx_tg_4, cx_tg_5]\n",
    "treatments = [\"TG1\", \"TG2\", \"TG3\", \"TG4\", \"TG5\"]\n",
    "treatments_descr = [\n",
    "    \"TG1:Salmonella, synbiont both water and feed\",\n",
    "    \"TG2:Salmonella, synbiont in water\",\n",
    "    \"TG3:Salmonella, synbiont in feed\",\n",
    "    \"TG4:Salmonella, no symbiont\",\n",
    "    \"TG5:No Salmonella, no symbiont\"\n",
    "]"
   ]
  },
  {
   "cell_type": "code",
   "execution_count": null,
   "metadata": {},
   "outputs": [],
   "source": [
    "parsed_tg_edges = []\n",
    "for tg_mgg_net in tg_microbetag_nets:\n",
    "    num_compl, types, pos_pairs, compounds = parse_microbetag_edges(tg_mgg_net, env_set=env_set, metabolites_set=metabolites_set)\n",
    "    parsed_tg_edges.append([num_compl, types, pos_pairs, compounds])"
   ]
  },
  {
   "cell_type": "markdown",
   "metadata": {},
   "source": [
    "#### Count the number of **taxon-metabolite associations** in the day-specific networks and correlate it with day"
   ]
  },
  {
   "cell_type": "code",
   "execution_count": null,
   "metadata": {},
   "outputs": [],
   "source": [
    "taxon_to_metabo_hits = [\n",
    "    net.edge_types[\"taxon_to_metabo\"][\"counts\"] for _, net in treatment_parsed_nets.items()\n",
    "]"
   ]
  },
  {
   "cell_type": "code",
   "execution_count": null,
   "metadata": {},
   "outputs": [],
   "source": [
    "plt.plot(treatments, taxon_to_metabo_hits, marker='o', linestyle='-')\n",
    "# Labels and title\n",
    "plt.xlabel(\"treatment\")\n",
    "plt.ylabel(\"number of edges\")\n",
    "plt.title(\"Edges between a taxon and a metabolite in treatment-oriented networks\")\n",
    "# Create proxy artists for legend\n",
    "legend_handles = [mlines.Line2D([], [], color='black', marker='o', linestyle='None', label=t) for t in treatments_descr]\n",
    "# Add legend box\n",
    "plt.legend(handles=legend_handles, title=\"TG Categories\", loc=\"lower right\", frameon=True)\n",
    "plt.show()\n"
   ]
  },
  {
   "cell_type": "markdown",
   "metadata": {},
   "source": [
    "#### Count the number of taxon-treatment associations in the day-specific networks"
   ]
  },
  {
   "cell_type": "code",
   "execution_count": null,
   "metadata": {},
   "outputs": [],
   "source": [
    "taxon_to_env_hits = [\n",
    "    net.edge_types[\"taxon_to_env\"][\"counts\"] for _, net in treatment_parsed_nets.items()\n",
    "]"
   ]
  },
  {
   "cell_type": "code",
   "execution_count": null,
   "metadata": {},
   "outputs": [],
   "source": [
    "plt.plot(treatments, taxon_to_env_hits, marker='o', linestyle='-')\n",
    "# Labels and title\n",
    "plt.xlabel(\"treatment\")\n",
    "plt.ylabel(\"number of edges\")\n",
    "plt.title(\"Edges between a taxon and an envirnmental variable in treatment-oriented networks\")\n",
    "\n",
    "plt.show()"
   ]
  },
  {
   "cell_type": "markdown",
   "metadata": {},
   "source": [
    "#### Correlate time vs total number of cross-feedings across day-specific networks"
   ]
  },
  {
   "cell_type": "code",
   "execution_count": null,
   "metadata": {},
   "outputs": [],
   "source": [
    "overall_number_of_seed_compl = [\n",
    "    sum(net.num_total_compls.values()) for _, net in treatment_parsed_nets.items()\n",
    "]"
   ]
  },
  {
   "cell_type": "code",
   "execution_count": null,
   "metadata": {},
   "outputs": [],
   "source": [
    "plt.plot(treatments, overall_number_of_seed_compl, marker='o', linestyle='-')\n",
    "\n",
    "# Labels and title\n",
    "plt.xlabel(\"treatment\")\n",
    "plt.ylabel(\"number of complements\")\n",
    "plt.title(\"Number of seed complements across treatment-specific networks\")\n",
    "\n",
    "# Show the plot\n",
    "plt.show()"
   ]
  },
  {
   "cell_type": "markdown",
   "metadata": {},
   "source": [
    "#### Correlation between number of positive taxon-to-taxon edged and predicted cross-feedings in day-specific networks "
   ]
  },
  {
   "cell_type": "code",
   "execution_count": null,
   "metadata": {},
   "outputs": [],
   "source": [
    "number_of_seed_compl_per_day_in_positive_associated_taxa = [\n",
    "    get_compls_and_compounds_in_positive_associated_taxa(\n",
    "        net.cx2, \n",
    "        net.pos_pairs_node_ids, \n",
    "        net.num_total_compls, \n",
    "        net.edge_id_to_unique_compounds\n",
    "        )[0] \n",
    "    for _, net in treatment_parsed_nets.items()\n",
    "]"
   ]
  },
  {
   "cell_type": "code",
   "execution_count": null,
   "metadata": {},
   "outputs": [],
   "source": [
    "plt.plot(treatments, number_of_seed_compl_per_day_in_positive_associated_taxa, marker='o', linestyle='-')\n",
    "\n",
    "# Labels and title\n",
    "plt.xlabel(\"treatment\")\n",
    "plt.ylabel(\"number of complements\")\n",
    "plt.title(\"Number of seed complements between co-occurrying taxa - positive\")\n",
    "\n",
    "# Show the plot\n",
    "plt.show()"
   ]
  },
  {
   "cell_type": "code",
   "execution_count": null,
   "metadata": {},
   "outputs": [],
   "source": [
    "mean_of_seed_compl_in_positive_associated_taxa = [\n",
    "    number_of_seed_compl_per_day_in_positive_associated_taxa[index] / len(net.pos_pairs_node_ids) for index, net in enumerate(treatment_parsed_nets.values())\n",
    "]\n",
    "mean_overall_number_of_seed_compl = [\n",
    "    overall_number_of_seed_compl[index] /  len(net.num_total_compls)  for index, net in enumerate(treatment_parsed_nets.values())\n",
    "]"
   ]
  },
  {
   "cell_type": "code",
   "execution_count": null,
   "metadata": {},
   "outputs": [],
   "source": [
    "plt.plot(treatments, mean_of_seed_compl_in_positive_associated_taxa, marker='o', linestyle='-', label=\"between co-occurrying taxa\")\n",
    "plt.plot(treatments, mean_overall_number_of_seed_compl, marker=\"*\", linestyle=\"dotted\", color=\"grey\", label=\"overall taxon-to-taxon\")\n",
    "\n",
    "# Labels and title\n",
    "plt.xlabel(\"day\")\n",
    "plt.ylabel(\"mean of number of complements\")\n",
    "plt.title(\"Mean number of seed complements between co-occurrying taxa acrross treatment-oriented networks\")\n",
    "\n",
    "plt.legend()\n",
    "\n",
    "# Show the plot\n",
    "plt.show()"
   ]
  },
  {
   "cell_type": "markdown",
   "metadata": {},
   "source": [
    "#### Unique compounds involved in potential cross-feedings of co-occurrying taxa"
   ]
  },
  {
   "cell_type": "code",
   "execution_count": null,
   "metadata": {},
   "outputs": [],
   "source": [
    "unique_compounds_in_cf_of_positive_associated_taxa = [\n",
    "    get_compls_and_compounds_in_positive_associated_taxa(\n",
    "        net.cx2, \n",
    "        net.pos_pairs_node_ids, \n",
    "        net.num_total_compls, \n",
    "        net.edge_id_to_unique_compounds\n",
    "        )[1]\n",
    "    for _, net in treatment_parsed_nets.items()\n",
    "]\n",
    "\n",
    "lengths = [\n",
    "    len(x) for x in unique_compounds_in_cf_of_positive_associated_taxa\n",
    "]"
   ]
  },
  {
   "cell_type": "code",
   "execution_count": null,
   "metadata": {},
   "outputs": [],
   "source": [
    "plt.plot(treatments, lengths, marker='o', linestyle='-')\n",
    "\n",
    "# Labels and title\n",
    "plt.xlabel(\"treatment\")\n",
    "plt.ylabel(\"number of unique compounds \")\n",
    "plt.title(\"Number of unique compound involved in potential cross-feeding in positive\")\n",
    "\n",
    "# Show the plot\n",
    "plt.show()"
   ]
  },
  {
   "cell_type": "code",
   "execution_count": null,
   "metadata": {},
   "outputs": [],
   "source": [
    "treatment_set = { i: j for i,j in zip(treatments, unique_compounds_in_cf_of_positive_associated_taxa)}"
   ]
  },
  {
   "cell_type": "code",
   "execution_count": null,
   "metadata": {},
   "outputs": [],
   "source": [
    "venn(treatment_set)\n",
    "plt.title(\"Overlap of the compounds involved in the potential cross-feeding interactions across the per-treatment networks\")\n",
    "\n",
    "# Show the plot\n",
    "plt.show()"
   ]
  },
  {
   "cell_type": "code",
   "execution_count": null,
   "metadata": {},
   "outputs": [],
   "source": []
  }
 ],
 "metadata": {
  "kernelspec": {
   "display_name": "microbetag",
   "language": "python",
   "name": "python3"
  },
  "language_info": {
   "codemirror_mode": {
    "name": "ipython",
    "version": 3
   },
   "file_extension": ".py",
   "mimetype": "text/x-python",
   "name": "python",
   "nbconvert_exporter": "python",
   "pygments_lexer": "ipython3",
   "version": "3.10.0"
  }
 },
 "nbformat": 4,
 "nbformat_minor": 2
}
